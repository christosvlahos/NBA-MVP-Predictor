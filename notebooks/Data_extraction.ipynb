{
 "cells": [
  {
   "cell_type": "markdown",
   "id": "915f0517-fe70-4352-a2ef-5e52f34e51cd",
   "metadata": {
    "tags": []
   },
   "source": [
    "# Data Scraping"
   ]
  },
  {
   "cell_type": "code",
   "execution_count": 1,
   "id": "2915616e-336a-433e-80fc-c2b02d5e6261",
   "metadata": {},
   "outputs": [],
   "source": [
    "#Importing libraries needed\n",
    "\n",
    "import pandas as pd\n",
    "from pandas.core.common import SettingWithCopyWarning\n",
    "import warnings\n",
    "import time\n",
    "warnings.simplefilter(action = 'ignore', category=FutureWarning)\n",
    "warnings.simplefilter(action = 'ignore', category=SettingWithCopyWarning)"
   ]
  },
  {
   "cell_type": "code",
   "execution_count": 3,
   "id": "e915acfe-6f62-43fe-adc3-43e5c52d1f01",
   "metadata": {},
   "outputs": [],
   "source": []
  },
  {
   "cell_type": "markdown",
   "id": "d9db924b-9b91-4cb5-a576-a2ff60be5502",
   "metadata": {},
   "source": [
    "The data we will use correspond to all the players who got at least one MVP vote from 1980 (beginning of the 3-point era) till 2022. All original data come from basketball-reference.com. We begin by getting the data included in the MVP tables."
   ]
  },
  {
   "cell_type": "code",
   "execution_count": 2,
   "id": "dd8b6c38-9c44-42a6-9061-241a5220be89",
   "metadata": {},
   "outputs": [],
   "source": [
    "#Setting the year marks we need (useful for loops later)\n",
    "\n",
    "first = 1980\n",
    "last = 2023\n",
    "years = [i for i in range(first, last)]\n",
    "seasons = len(years)\n",
    "\n",
    "\n",
    "#Parsing the tables with the MVP candidates for every year and storing the dfs in a list\n",
    "\n",
    "mvp_all = []\n",
    "columns = [\"Rank\", 'Player',  'Age', 'Tm', 'First', 'Pts Won',\n",
    "           'Pts Max', 'Share', 'G', 'MP', 'PTS', 'TRB', 'AST', 'STL',\n",
    "           'BLK', 'FG%', '3P%', 'FT%', 'WS', 'WS/48']\n",
    "\n",
    "for year in years:\n",
    "    mvp_url = \"https://www.basketball-reference.com/awards/awards_{}.html\".format(year)\n",
    "    all_awards_year = pd.read_html(mvp_url)\n",
    "    time.sleep(5)\n",
    "    mvp_year = all_awards_year[0]\n",
    "    mvp_year.columns = columns\n",
    "    mvp_year[\"Year\"] = year\n",
    "    mvp_all.append(mvp_year) "
   ]
  },
  {
   "cell_type": "markdown",
   "id": "45f5dbf7-7aec-454e-908b-57a0e07b4bca",
   "metadata": {},
   "source": [
    "Now we want to get the full data corespinding to these players. In the remaining of this notebook we extract tables corresponding to statistics per game and per 100 possessions as well as advanced statistics. Most features in per game and per 100 possessions correspond to the same statistic (points, rebounds, assists etc) just measured at a different rate. However there are two features in the 'per 100 possessions' tables that don't have a correspondent one (offensive and defensive rating) and are very good indicators of the performance of a player. Thus we need to extract these two and add to the per game stats."
   ]
  },
  {
   "cell_type": "code",
   "execution_count": 3,
   "id": "ff824ae1-5161-4bfa-8436-e23738380050",
   "metadata": {},
   "outputs": [],
   "source": [
    "mvp_per_game_stats = []\n",
    "mvp_per_possession_stats = []\n",
    "mvp_advanced_stats = []\n",
    "\n",
    "\n",
    "    \n",
    "for year in years:\n",
    "    \n",
    "    names = mvp_all[year-first][\"Player\"].values\n",
    "    \n",
    "    per_game_url = \"https://www.basketball-reference.com/leagues/NBA_{}_per_game.html\".format(year)\n",
    "    per_possession_url = \"https://www.basketball-reference.com/leagues/NBA_{}_per_poss.html\".format(year)\n",
    "    advanced_url = \"https://www.basketball-reference.com/leagues/NBA_{}_advanced.html\".format(year)\n",
    "    \n",
    "    per_game_tab = pd.read_html(per_game_url)\n",
    "    per_possession_tab = pd.read_html(per_possession_url)\n",
    "    advanced_tab = pd.read_html(advanced_url)\n",
    "    time.sleep(5)\n",
    "\n",
    "    \n",
    "    per_game_tab[0][\"Player\"] = per_game_tab[0][\"Player\"].str.replace(\"*\",\"\")\n",
    "    per_possession_tab[0][\"Player\"] = per_possession_tab[0][\"Player\"].str.replace(\"*\",\"\")\n",
    "    advanced_tab[0][\"Player\"] = advanced_tab[0][\"Player\"].str.replace(\"*\",\"\")\n",
    "\n",
    "    \n",
    "    per_game_tab_mvp = per_game_tab[0].loc[per_game_tab[0][\"Player\"].isin(names)]\n",
    "    per_possession_tab_mvp = per_possession_tab[0].loc[per_possession_tab[0][\"Player\"].isin(names)]\n",
    "    advanced_tab_mvp = advanced_tab[0].loc[advanced_tab[0][\"Player\"].isin(names)]\n",
    "    \n",
    "    per_game_tab_mvp[\"Year\"] = year\n",
    "    per_possession_tab_mvp[\"Year\"] = year\n",
    "    advanced_tab_mvp[\"Year\"] = year\n",
    "    \n",
    "    mvp_per_game_stats.append(per_game_tab_mvp)\n",
    "    mvp_per_possession_stats.append(per_possession_tab_mvp)\n",
    "    mvp_advanced_stats.append(advanced_tab_mvp)"
   ]
  },
  {
   "cell_type": "markdown",
   "id": "d73b5800-e4bc-4110-8ed5-f4d83788d04e",
   "metadata": {},
   "source": [
    "Now that we have the tables, we change all numerical features to float (except two that are integers) and remove two columns we will not need."
   ]
  },
  {
   "cell_type": "code",
   "execution_count": 4,
   "id": "994ef4aa-123c-4ab0-ac3d-13c3744b4431",
   "metadata": {},
   "outputs": [],
   "source": [
    "per_game_to_float_cols = ['MP', 'FG', 'FGA', 'FG%', '3P',\n",
    "       '3PA', '3P%', '2P', '2PA', '2P%', 'eFG%', 'FT', 'FTA', 'FT%', 'ORB',\n",
    "       'DRB', 'TRB', 'AST', 'STL', 'BLK', 'TOV', 'PF', 'PTS']\n",
    "\n",
    "per_possession_to_float_cols = ['MP', 'FG', 'FGA', 'FG%', '3P',\n",
    "       '3PA', '3P%', '2P', '2PA', '2P%', 'FT', 'FTA', 'FT%', 'ORB', 'DRB',\n",
    "       'TRB', 'AST', 'STL', 'BLK', 'TOV', 'PF', 'PTS', 'ORtg', 'DRtg']\n",
    "\n",
    "advanced_to_float_cols = ['MP', 'PER', 'TS%', '3PAr', 'FTr',\n",
    "       'ORB%', 'DRB%', 'TRB%', 'AST%', 'STL%', 'BLK%', 'TOV%', 'USG%', 'OWS',\n",
    "       'DWS', 'WS', 'WS/48', 'OBPM', 'DBPM', 'BPM', 'VORP']\n",
    "\n",
    "to_integer_cols = ['Age', 'G']\n",
    "\n",
    "for i in range(seasons):\n",
    "    \n",
    "    mvp_per_game_stats[i].drop(['Rk', 'GS'], axis=1, inplace=True)\n",
    "    mvp_per_possession_stats[i].drop(['Rk', 'GS'], axis=1, inplace=True)\n",
    "    mvp_advanced_stats[i].drop('Rk', axis=1, inplace=True)\n",
    "    \n",
    "    \n",
    "    mvp_per_game_stats[i].drop_duplicates(subset=['Player'], keep = 'first', inplace=True)\n",
    "    mvp_per_possession_stats[i].drop_duplicates(subset=['Player'], keep = 'first', inplace=True)\n",
    "    mvp_advanced_stats[i].drop_duplicates(subset=['Player'], keep = 'first', inplace=True)\n",
    "    \n",
    "\n",
    "    mvp_per_game_stats[i][per_game_to_float_cols] = mvp_per_game_stats[i][per_game_to_float_cols].astype(float)\n",
    "    mvp_per_game_stats[i][to_integer_cols] = mvp_per_game_stats[i][to_integer_cols].astype(int)\n",
    "    \n",
    "    mvp_per_possession_stats[i][per_possession_to_float_cols] = mvp_per_possession_stats[i][per_possession_to_float_cols].astype(float)\n",
    "    mvp_per_possession_stats[i][to_integer_cols] = mvp_per_possession_stats[i][to_integer_cols].astype(int)\n",
    "    \n",
    "    mvp_advanced_stats[i][advanced_to_float_cols] = mvp_advanced_stats[i][advanced_to_float_cols].astype(float)\n",
    "    mvp_advanced_stats[i][to_integer_cols] = mvp_advanced_stats[i][to_integer_cols].astype(int)"
   ]
  },
  {
   "cell_type": "markdown",
   "id": "da993a0d-fcee-4d5e-a5fc-f89b820cdc45",
   "metadata": {},
   "source": [
    "A quick check to see if we have all the columns we need."
   ]
  },
  {
   "cell_type": "code",
   "execution_count": 5,
   "id": "1012621e-9f29-4900-a4bb-2bb25d691360",
   "metadata": {},
   "outputs": [
    {
     "name": "stdout",
     "output_type": "stream",
     "text": [
      "Index(['Player', 'Pos', 'Age', 'Tm', 'G', 'MP', 'FG', 'FGA', 'FG%', '3P',\n",
      "       '3PA', '3P%', '2P', '2PA', '2P%', 'eFG%', 'FT', 'FTA', 'FT%', 'ORB',\n",
      "       'DRB', 'TRB', 'AST', 'STL', 'BLK', 'TOV', 'PF', 'PTS', 'Year'],\n",
      "      dtype='object')\n",
      "Index(['Player', 'Pos', 'Age', 'Tm', 'G', 'MP', 'FG', 'FGA', 'FG%', '3P',\n",
      "       '3PA', '3P%', '2P', '2PA', '2P%', 'FT', 'FTA', 'FT%', 'ORB', 'DRB',\n",
      "       'TRB', 'AST', 'STL', 'BLK', 'TOV', 'PF', 'PTS', 'Unnamed: 29', 'ORtg',\n",
      "       'DRtg', 'Year'],\n",
      "      dtype='object')\n",
      "Index(['Player', 'Pos', 'Age', 'Tm', 'G', 'MP', 'PER', 'TS%', '3PAr', 'FTr',\n",
      "       'ORB%', 'DRB%', 'TRB%', 'AST%', 'STL%', 'BLK%', 'TOV%', 'USG%',\n",
      "       'Unnamed: 19', 'OWS', 'DWS', 'WS', 'WS/48', 'Unnamed: 24', 'OBPM',\n",
      "       'DBPM', 'BPM', 'VORP', 'Year'],\n",
      "      dtype='object')\n"
     ]
    }
   ],
   "source": [
    "print(mvp_per_game_stats[29].columns)\n",
    "print(mvp_per_possession_stats[29].columns)\n",
    "print(mvp_advanced_stats[29].columns)"
   ]
  },
  {
   "cell_type": "markdown",
   "id": "d8829bbb-5762-47b2-92f7-f4964cb16de3",
   "metadata": {},
   "source": [
    "Now it is time to combine the per game stats with the advanced ones in one dataframe and stack all different years in one final table. Earlier we added a column corresponding to the year so we can still separate rows even after stacking all seasons together."
   ]
  },
  {
   "cell_type": "code",
   "execution_count": 6,
   "id": "874734ae-e4ea-4348-b110-4b77e36adf8d",
   "metadata": {},
   "outputs": [],
   "source": [
    "all_per_game = pd.concat(mvp_per_game_stats, ignore_index=True)\n",
    "all_per_possession = pd.concat(mvp_per_possession_stats, ignore_index=True)\n",
    "all_per_possession.drop('Unnamed: 29', axis=1, inplace=True)\n",
    "all_advanced = pd.concat(mvp_advanced_stats, ignore_index=True)\n",
    "all_advanced.drop(columns=['Unnamed: 19', 'Unnamed: 24'], axis=1, inplace=True)"
   ]
  },
  {
   "cell_type": "code",
   "execution_count": 7,
   "id": "9916bfe1-e314-483e-bc80-7c4ea340c60b",
   "metadata": {},
   "outputs": [],
   "source": [
    "mvp_full = pd.concat(mvp_all, ignore_index=True)\n",
    "\n",
    "pure_mvp_full = mvp_full[['Rank', 'Player', 'Age', 'Tm', 'First', 'Pts Won', 'Pts Max', 'Share', 'WS', 'WS/48']]"
   ]
  },
  {
   "cell_type": "markdown",
   "id": "4fb551cf-0622-4292-9743-efc4316c7ae4",
   "metadata": {},
   "source": [
    "Next we isolate features not included in the initial MVP tables to be added. We use columns Player, Team and Year for merging."
   ]
  },
  {
   "cell_type": "code",
   "execution_count": 8,
   "id": "8d916089-0bfd-47be-8056-c1df7d532bca",
   "metadata": {},
   "outputs": [],
   "source": [
    "advanced_to_merge = all_advanced.drop(['Age', 'Pos', 'G', 'MP', 'WS', 'WS/48'], axis=1)\n",
    "per_game_to_merge = all_per_game[[\"Player\", \"Tm\", \"ORB\", \"DRB\", \"TOV\", \"PF\", \"Year\"]]\n",
    "\n",
    "ratings = all_per_possession[[\"Player\", \"Tm\", \"ORtg\", \"DRtg\", \"Year\"]]\n",
    "\n",
    "added_stats_df = pd.merge(pd.merge(per_game_to_merge, advanced_to_merge, on = [\"Player\", \"Tm\", \"Year\"], how = \"left\"), ratings, on = [\"Player\", \"Tm\", \"Year\"], how = 'left')\n",
    "\n",
    "mvp_all_stats = pd.merge(mvp_full, added_stats_df, on = [\"Player\", \"Tm\", \"Year\"], how = 'left')\n"
   ]
  },
  {
   "cell_type": "markdown",
   "id": "418dc32a-a487-4446-855c-bb7fc7c20078",
   "metadata": {},
   "source": [
    "Now we have a small issue we need to address. There are a handful of players that despite being good enough to get MVP votes, they got traded during the season and in result played for two (or more) different teams. These players have multiple entries in the dataset, one row for each team they played plus one corresponding to their full statistics during the season. This row is identified by the Team column that has \"TOT\" for total in it. Apart from one case however these players were at the bottom of the MVP list and thus can be removed without affecting the dataset. There is only one case where the player got traded and still got too many votes to be easily deleted. This is Chauncey Billups from 2009. Since he only played 2 games with his first team we can safely assign him fully to his second team which was the Denver Nuggets."
   ]
  },
  {
   "cell_type": "code",
   "execution_count": 9,
   "id": "1e753198-291e-4630-b454-e70c994f1e0b",
   "metadata": {},
   "outputs": [],
   "source": [
    "mvp_all_stats[(mvp_all_stats[\"Player\"] == \"Chauncey Billups\") & \n",
    "              (mvp_all_stats[\"Tm\"] == \"TOT\")] = mvp_all_stats[\n",
    "                                                    (mvp_all_stats[\"Player\"] == \"Chauncey Billups\") &\n",
    "                                                    (mvp_all_stats[\"Tm\"] == \"TOT\")\n",
    "                                                    ].replace(\"TOT\", \"DEN\")\n",
    "\n"
   ]
  },
  {
   "cell_type": "markdown",
   "id": "7eeb447f-eda8-4f78-a2ff-4497b4de0e9b",
   "metadata": {},
   "source": [
    "Next we want to add a single team feature in our data. This is number of wins or their winning percentage. For now we will add both columns to have available and see later which to keep. For that we need to extract the standings for each year. In the team standings however the name of the team is fully spelled out while in the player statistics only an abbreviation is used. To make the match we create the following dictionary matching full names to abbreviations."
   ]
  },
  {
   "cell_type": "code",
   "execution_count": 10,
   "id": "81f9f4d7-739f-4260-bd77-f2061962cc27",
   "metadata": {},
   "outputs": [],
   "source": [
    "#A dictionary with NBA teams full names and abbreviations, so that we can extract and match wins per season for players\n",
    "\n",
    "\n",
    "team_dict = {\"Boston Celtics\": \"BOS\", \"Brooklyn Nets\": \"BKN\", \"New York Knicks\": \"NYK\",\n",
    "             \"Philadelphia 76ers\": \"PHI\", \"Toronto Raptors\": \"TOR\", \"Chicago Bulls\": \"CHI\",\n",
    "             \"Cleveland Cavaliers\": \"CLE\", \"Detroit Pistons\": \"DET\", \"Indiana Pacers\": \"IND\",\n",
    "             \"Milwaukee Bucks\": \"MIL\", \"Atlanta Hawks\": \"ATL\", \"Charlotte Hornets\": \"CHH\",\n",
    "             \"Miami Heat\": \"MIA\", \"Orlando Magic\": \"ORL\", \"Washington Wizards\": \"WAS\",\n",
    "             \"Denver Nuggets\": \"DEN\", \"Minnesota Timberwolves\": \"MIN\", \"Oklahoma City Thunder\": \"OKC\",\n",
    "             \"Portland Trail Blazers\": \"POR\", \"Utah Jazz\": \"UTA\",\"Golden State Warriors\": \"GSW\",\n",
    "             \"Los Angeles Clippers\": \"LAC\", \"Los Angeles Lakers\": \"LAL\", \"Phoenix Suns\": \"PHO\",\n",
    "             \"Sacramento Kings\": \"SAC\", \"Dallas Mavericks\": \"DAL\", \"Houston Rockets\": \"HOU\",\n",
    "             \"Memphis Grizzlies\": \"MEM\", \"New Orleans Pelicans\": \"NOP\", \"San Antonio Spurs\": \"SAS\",\n",
    "             \"Seattle SuperSonics\": \"SEA\", \"Kansas City Kings\": \"KCK\",\"New Jersey Nets\": \"NJN\",\n",
    "             \"Washington Bullets\": \"WSB\", \"Charlotte Bobcats\": \"CHA\", \"New Orleans Hornets\": \"NOH\",\n",
    "             \"San Diego Clippers\": \"SDC\", \"New Orleans/Oklahoma City Hornets\": \"NOK\",\n",
    "             \"Vancouver Grizzlies\": \"VAN\"\n",
    "            }\n",
    "\n"
   ]
  },
  {
   "cell_type": "markdown",
   "id": "9543db2c-d6d8-4d27-a882-1eb89cc402be",
   "metadata": {},
   "source": [
    "Notice that NBA splits its standings into two conferences, East and West. Thus we need to scrape two tables per year. Next step is to merge these two tables per year into one and then standing of all yers together into one table. Then the standings dataframe is merged on the player_stats dataframe on Team and Year."
   ]
  },
  {
   "cell_type": "code",
   "execution_count": 11,
   "id": "64cd30b6-f5f5-4858-b855-1f9329f9fc08",
   "metadata": {},
   "outputs": [],
   "source": [
    "#The basketball-reference websites have different structure from 2016 so we need \n",
    "#to slightly change the code. Hence a separate loop. \n",
    "\n",
    "west_stands = []\n",
    "east_stands = []\n",
    "for i in range(1980,2016):\n",
    "    url = \"https://www.basketball-reference.com/leagues/NBA_{}_standings.html\".format(i)\n",
    "    tables = pd.read_html(url)\n",
    "    time.sleep(5)\n",
    "    east = tables[0][~tables[0].W.str.contains(\"|\".join(\"Division\"))]\n",
    "    west = tables[1][~tables[1].W.str.contains(\"|\".join(\"Division\"))]\n",
    "    east[\"Eastern Conference\"] = east[\"Eastern Conference\"].str.replace(\"*\",\"\")\n",
    "    west[\"Western Conference\"] = west[\"Western Conference\"].str.replace(\"*\",\"\")\n",
    "    east = east.replace({\"Eastern Conference\":team_dict})\n",
    "    west = west.replace({\"Western Conference\":team_dict})\n",
    "    east = east[[\"Eastern Conference\", \"W\", \"W/L%\"]]\n",
    "    west = west[[\"Western Conference\", \"W\", \"W/L%\"]]\n",
    "    east = east.rename(columns={'Eastern Conference': 'Tm'})\n",
    "    west = west.rename(columns={'Western Conference': 'Tm'})\n",
    "    east_stands.append(east)\n",
    "    west_stands.append(west)\n",
    "    \n",
    "for i in range(2016, 2023):\n",
    "    url = \"https://www.basketball-reference.com/leagues/NBA_{}_standings.html\".format(i)\n",
    "    tables = pd.read_html(url)\n",
    "    time.sleep(5)\n",
    "    east = tables[2][~tables[2].W.str.contains(\"|\".join(\"Division\"))]\n",
    "    west = tables[3][~tables[3].W.str.contains(\"|\".join(\"Division\"))]\n",
    "    east[\"Eastern Conference\"] = east[\"Eastern Conference\"].str.replace(\"*\",\"\")\n",
    "    west[\"Western Conference\"] = west[\"Western Conference\"].str.replace(\"*\",\"\")\n",
    "    east = east.replace({\"Eastern Conference\":team_dict})\n",
    "    west = west.replace({\"Western Conference\":team_dict})\n",
    "    east = east[[\"Eastern Conference\", \"W\", \"W/L%\"]]\n",
    "    west = west[[\"Western Conference\", \"W\", \"W/L%\"]]\n",
    "    east = east.rename(columns={'Eastern Conference': 'Tm'})\n",
    "    west = west.rename(columns={'Western Conference': 'Tm'})\n",
    "    east_stands.append(east)\n",
    "    west_stands.append(west)"
   ]
  },
  {
   "cell_type": "code",
   "execution_count": 12,
   "id": "6387d8d3-3e2e-46fb-9ee3-477021aae62f",
   "metadata": {},
   "outputs": [],
   "source": [
    "#Unite standings for eastern and western conference per year and add a Year column to match with Players data.\n",
    "\n",
    "\n",
    "all_standings_per_year = []\n",
    "for i in range(len(west_stands)):\n",
    "    east_stands[i][[\"W\", \"W/L%\"]] = east_stands[i][[\"W\", \"W/L%\"]].astype({'W':int, 'W/L%':float})\n",
    "    west_stands[i][[\"W\", \"W/L%\"]] = west_stands[i][[\"W\", \"W/L%\"]].astype({'W':int, 'W/L%':float})\n",
    "    east_stands[i][\"Year\"] = i + 1980\n",
    "    west_stands[i][\"Year\"] = i + 1980\n",
    "    standings_per_year = pd.concat([east_stands[i], west_stands[i]], ignore_index=True)\n",
    "    all_standings_per_year.append(standings_per_year)\n",
    "    \n",
    "full_standings = pd.concat(all_standings_per_year, ignore_index=True)\n",
    "mvp_df = pd.merge(mvp_all_stats, full_standings, on = ['Tm', 'Year'], how = 'left')"
   ]
  },
  {
   "cell_type": "markdown",
   "id": "da8b236f-e3ee-4ba3-b784-faf494ffe45d",
   "metadata": {},
   "source": [
    "One final thing to do. Many players (especially in the older years) did not attempt any 3-point shots. Thus their percentage is set to NaN. We will change it to zero for now to avoid problems when we build our models. As a feature it should be fairly weak. If it turns out to be more important than thought we can change it to something more meaningful."
   ]
  },
  {
   "cell_type": "code",
   "execution_count": 13,
   "id": "ec4311f5-64e5-4e61-ad40-c04b1bf52100",
   "metadata": {},
   "outputs": [],
   "source": [
    "mvp_df['3P%'] = mvp_df['3P%'].fillna(0)\n",
    "mvp_df.dropna(inplace = True)\n",
    "mvp_df.reset_index(drop = True, inplace = True)"
   ]
  },
  {
   "cell_type": "markdown",
   "id": "c181bf93-f2ec-4445-88ca-4733470e871e",
   "metadata": {},
   "source": [
    "Finally we save the table into a csv file to use in our analysis."
   ]
  },
  {
   "cell_type": "code",
   "execution_count": 152,
   "id": "2ec1d1c5-27d9-4014-8e11-789dc7a2c31a",
   "metadata": {},
   "outputs": [],
   "source": [
    "#Save data to a csv file\n",
    "\n",
    "mvp_df.to_csv('data/MVP_per_game.csv', index=False)"
   ]
  }
 ],
 "metadata": {
  "kernelspec": {
   "display_name": "Python 3 (ipykernel)",
   "language": "python",
   "name": "python3"
  },
  "language_info": {
   "codemirror_mode": {
    "name": "ipython",
    "version": 3
   },
   "file_extension": ".py",
   "mimetype": "text/x-python",
   "name": "python",
   "nbconvert_exporter": "python",
   "pygments_lexer": "ipython3",
   "version": "3.8.5"
  }
 },
 "nbformat": 4,
 "nbformat_minor": 5
}
