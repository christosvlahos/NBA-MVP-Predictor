{
 "cells": [
  {
   "cell_type": "code",
   "execution_count": 1,
   "id": "8c4da424-e912-416b-a304-e2411f9c3b0e",
   "metadata": {},
   "outputs": [
    {
     "name": "stderr",
     "output_type": "stream",
     "text": [
      "2022-09-12 15:50:19.481118: I tensorflow/core/platform/cpu_feature_guard.cc:193] This TensorFlow binary is optimized with oneAPI Deep Neural Network Library (oneDNN) to use the following CPU instructions in performance-critical operations:  AVX2 FMA\n",
      "To enable them in other operations, rebuild TensorFlow with the appropriate compiler flags.\n"
     ]
    }
   ],
   "source": [
    "import pandas as pd\n",
    "import numpy as np\n",
    "import tensorflow as tf\n",
    "from tensorflow import keras\n",
    "import warnings\n",
    "\n",
    "from Model_functions import *\n",
    "\n",
    "from sklearn.model_selection import GridSearchCV\n",
    "from sklearn.model_selection import RandomizedSearchCV\n",
    "#from sklearn.metrics import r2_score\n",
    "#from sklearn.metrics import mean_squared_error\n",
    "#from sklearn.preprocessing import StandardScaler\n",
    "from sklearn.pipeline import Pipeline\n",
    "from pandas.core.common import SettingWithCopyWarning\n",
    "\n",
    "from keras.wrappers.scikit_learn import KerasRegressor\n",
    "from sklearn.ensemble import RandomForestRegressor\n",
    "from xgboost import XGBRegressor\n",
    "\n",
    "warnings.simplefilter(action = 'ignore', category=SettingWithCopyWarning)\n",
    "pd.set_option('display.max_columns', None, 'display.max.rows', None)\n"
   ]
  },
  {
   "cell_type": "code",
   "execution_count": 2,
   "id": "d76de67c-55b4-4e38-951d-54f9f13bc7de",
   "metadata": {},
   "outputs": [],
   "source": [
    "per_game_data = pd.read_csv(\"data/MVP_per_game.csv\")\n",
    "#per_possession_data = pd.read_csv(\"data/MVP_per_possession.csv\")"
   ]
  },
  {
   "cell_type": "code",
   "execution_count": 3,
   "id": "0ecbc109-82be-4c2e-86e1-af4de0f496cd",
   "metadata": {},
   "outputs": [],
   "source": [
    "test_year = 2022\n",
    "years = [year for year in range(1980, 2022)]\n",
    "\n",
    "historical_data = per_game_data[per_game_data[\"Year\"] != test_year]\n",
    "final_year_data = per_game_data[per_game_data[\"Year\"] == test_year]"
   ]
  },
  {
   "cell_type": "code",
   "execution_count": 4,
   "id": "166b6a9e-3a6e-4122-a523-fe95afc65273",
   "metadata": {},
   "outputs": [],
   "source": [
    "#List of important features extracted in MVP_predictions.ipynb\n",
    "\n",
    "feats = ['PER', 'WS/48', 'VORP', 'BPM', 'OBPM', 'OWS', 'PTS', 'USG%',\n",
    "       'W/L%', 'TS%', 'TOV', 'DWS', 'FTr', 'DRB%']\n",
    "\n",
    "id_cols = ['Rank','Player', 'Age', 'Tm', 'Year', 'Share']\n",
    "\n",
    "historical_data_reduced = historical_data[id_cols + feats]\n",
    "final_year_data_reduced = final_year_data[feats]\n",
    "\n",
    "id_train = historical_data[['Rank','Player', 'Age', 'Tm', 'Year']]\n",
    "id_test = final_year_data[['Rank','Player', 'Age', 'Tm', 'Year']]\n",
    "\n",
    "y_train = historical_data['Share']\n",
    "y_test = final_year_data['Share']\n",
    "\n",
    "x_train = historical_data[feats]\n",
    "x_test= final_year_data[feats]\n",
    "\n",
    "#to_drop_train = ['Rank','Player', 'Age', 'Tm', 'Year']"
   ]
  },
  {
   "cell_type": "markdown",
   "id": "35f53ce9-55a5-4d0c-a4b3-4c53225e9547",
   "metadata": {
    "tags": []
   },
   "source": [
    "## Hyperparameter Tuning for Logistic Regression"
   ]
  },
  {
   "cell_type": "markdown",
   "id": "cc6ace6c-e545-4d2f-8163-0e0e26a6b97a",
   "metadata": {},
   "source": [
    "## Hyperparameter Tuning for the Neural Network"
   ]
  },
  {
   "cell_type": "code",
   "execution_count": 6,
   "id": "5947fce1-632b-41bf-87dd-36085f22b325",
   "metadata": {},
   "outputs": [
    {
     "name": "stderr",
     "output_type": "stream",
     "text": [
      "/var/folders/_d/d5z6h7kx6ws38vzmkgr9pss40000gp/T/ipykernel_8768/3085022073.py:1: DeprecationWarning: KerasRegressor is deprecated, use Sci-Keras (https://github.com/adriangb/scikeras) instead. See https://www.adriangb.com/scikeras/stable/migration.html for help migrating.\n",
      "  model_NN = KerasRegressor(build_fn=keras_model, verbose=0)\n"
     ]
    }
   ],
   "source": [
    "model_NN = KerasRegressor(build_fn=keras_model, verbose=0)\n",
    "\n",
    "estimator = Pipeline([('scaler', StandardScaler()), \n",
    "                      (\"model\", model_NN)])\n",
    "\n",
    "param_grid = {'model__epochs': [50, 80],\n",
    "              'model__n1': [40, 70],\n",
    "              #'model__n2': [20,30],\n",
    "              'model__batch_size':[50, 70],\n",
    "              'model__dropout': [0.1, 0.2, 0.3],\n",
    "              'model__optimizer': [keras.optimizers.SGD, keras.optimizers.Adam] ,\n",
    "              'model__learn_rate': [0.15, 0.2]#,\n",
    "              #'model__momentum': [0.0, 0.3, 0.7]\n",
    "             }\n",
    "\n",
    "grid_NN = GridSearchCV(estimator=estimator, param_grid=param_grid, n_jobs=-1, cv=5, verbose=1)"
   ]
  },
  {
   "cell_type": "code",
   "execution_count": 7,
   "id": "e1361152-59e2-4e52-ac66-b3dcec6d8dd9",
   "metadata": {},
   "outputs": [
    {
     "name": "stdout",
     "output_type": "stream",
     "text": [
      "Fitting 5 folds for each of 96 candidates, totalling 480 fits\n"
     ]
    },
    {
     "name": "stderr",
     "output_type": "stream",
     "text": [
      "2022-09-12 12:14:26.614177: I tensorflow/core/platform/cpu_feature_guard.cc:193] This TensorFlow binary is optimized with oneAPI Deep Neural Network Library (oneDNN) to use the following CPU instructions in performance-critical operations:  AVX2 FMA\n",
      "To enable them in other operations, rebuild TensorFlow with the appropriate compiler flags.\n",
      "2022-09-12 12:14:26.614177: I tensorflow/core/platform/cpu_feature_guard.cc:193] This TensorFlow binary is optimized with oneAPI Deep Neural Network Library (oneDNN) to use the following CPU instructions in performance-critical operations:  AVX2 FMA\n",
      "To enable them in other operations, rebuild TensorFlow with the appropriate compiler flags.\n",
      "2022-09-12 12:14:26.618438: I tensorflow/core/platform/cpu_feature_guard.cc:193] This TensorFlow binary is optimized with oneAPI Deep Neural Network Library (oneDNN) to use the following CPU instructions in performance-critical operations:  AVX2 FMA\n",
      "To enable them in other operations, rebuild TensorFlow with the appropriate compiler flags.\n",
      "2022-09-12 12:14:26.622125: I tensorflow/core/platform/cpu_feature_guard.cc:193] This TensorFlow binary is optimized with oneAPI Deep Neural Network Library (oneDNN) to use the following CPU instructions in performance-critical operations:  AVX2 FMA\n",
      "To enable them in other operations, rebuild TensorFlow with the appropriate compiler flags.\n",
      "2022-09-12 12:14:40.218285: I tensorflow/core/platform/cpu_feature_guard.cc:193] This TensorFlow binary is optimized with oneAPI Deep Neural Network Library (oneDNN) to use the following CPU instructions in performance-critical operations:  AVX2 FMA\n",
      "To enable them in other operations, rebuild TensorFlow with the appropriate compiler flags.\n",
      "2022-09-12 12:14:40.218323: I tensorflow/core/platform/cpu_feature_guard.cc:193] This TensorFlow binary is optimized with oneAPI Deep Neural Network Library (oneDNN) to use the following CPU instructions in performance-critical operations:  AVX2 FMA\n",
      "To enable them in other operations, rebuild TensorFlow with the appropriate compiler flags.\n",
      "2022-09-12 12:14:40.218973: I tensorflow/core/platform/cpu_feature_guard.cc:193] This TensorFlow binary is optimized with oneAPI Deep Neural Network Library (oneDNN) to use the following CPU instructions in performance-critical operations:  AVX2 FMA\n",
      "To enable them in other operations, rebuild TensorFlow with the appropriate compiler flags.\n",
      "2022-09-12 12:14:40.219112: I tensorflow/core/platform/cpu_feature_guard.cc:193] This TensorFlow binary is optimized with oneAPI Deep Neural Network Library (oneDNN) to use the following CPU instructions in performance-critical operations:  AVX2 FMA\n",
      "To enable them in other operations, rebuild TensorFlow with the appropriate compiler flags.\n",
      "WARNING:tensorflow:5 out of the last 13 calls to <function Model.make_test_function.<locals>.test_function at 0x12927a790> triggered tf.function retracing. Tracing is expensive and the excessive number of tracings could be due to (1) creating @tf.function repeatedly in a loop, (2) passing tensors with different shapes, (3) passing Python objects instead of tensors. For (1), please define your @tf.function outside of the loop. For (2), @tf.function has reduce_retracing=True option that can avoid unnecessary retracing. For (3), please refer to https://www.tensorflow.org/guide/function#controlling_retracing and https://www.tensorflow.org/api_docs/python/tf/function for  more details.\n",
      "WARNING:tensorflow:5 out of the last 13 calls to <function Model.make_test_function.<locals>.test_function at 0x12664d790> triggered tf.function retracing. Tracing is expensive and the excessive number of tracings could be due to (1) creating @tf.function repeatedly in a loop, (2) passing tensors with different shapes, (3) passing Python objects instead of tensors. For (1), please define your @tf.function outside of the loop. For (2), @tf.function has reduce_retracing=True option that can avoid unnecessary retracing. For (3), please refer to https://www.tensorflow.org/guide/function#controlling_retracing and https://www.tensorflow.org/api_docs/python/tf/function for  more details.\n",
      "WARNING:tensorflow:5 out of the last 13 calls to <function Model.make_test_function.<locals>.test_function at 0x12604b790> triggered tf.function retracing. Tracing is expensive and the excessive number of tracings could be due to (1) creating @tf.function repeatedly in a loop, (2) passing tensors with different shapes, (3) passing Python objects instead of tensors. For (1), please define your @tf.function outside of the loop. For (2), @tf.function has reduce_retracing=True option that can avoid unnecessary retracing. For (3), please refer to https://www.tensorflow.org/guide/function#controlling_retracing and https://www.tensorflow.org/api_docs/python/tf/function for  more details.\n",
      "WARNING:tensorflow:5 out of the last 13 calls to <function Model.make_test_function.<locals>.test_function at 0x12fca2790> triggered tf.function retracing. Tracing is expensive and the excessive number of tracings could be due to (1) creating @tf.function repeatedly in a loop, (2) passing tensors with different shapes, (3) passing Python objects instead of tensors. For (1), please define your @tf.function outside of the loop. For (2), @tf.function has reduce_retracing=True option that can avoid unnecessary retracing. For (3), please refer to https://www.tensorflow.org/guide/function#controlling_retracing and https://www.tensorflow.org/api_docs/python/tf/function for  more details.\n",
      "WARNING:tensorflow:5 out of the last 13 calls to <function Model.make_test_function.<locals>.test_function at 0x1266dc430> triggered tf.function retracing. Tracing is expensive and the excessive number of tracings could be due to (1) creating @tf.function repeatedly in a loop, (2) passing tensors with different shapes, (3) passing Python objects instead of tensors. For (1), please define your @tf.function outside of the loop. For (2), @tf.function has reduce_retracing=True option that can avoid unnecessary retracing. For (3), please refer to https://www.tensorflow.org/guide/function#controlling_retracing and https://www.tensorflow.org/api_docs/python/tf/function for  more details.\n",
      "WARNING:tensorflow:5 out of the last 13 calls to <function Model.make_test_function.<locals>.test_function at 0x12931a430> triggered tf.function retracing. Tracing is expensive and the excessive number of tracings could be due to (1) creating @tf.function repeatedly in a loop, (2) passing tensors with different shapes, (3) passing Python objects instead of tensors. For (1), please define your @tf.function outside of the loop. For (2), @tf.function has reduce_retracing=True option that can avoid unnecessary retracing. For (3), please refer to https://www.tensorflow.org/guide/function#controlling_retracing and https://www.tensorflow.org/api_docs/python/tf/function for  more details.\n",
      "WARNING:tensorflow:5 out of the last 13 calls to <function Model.make_test_function.<locals>.test_function at 0x1260eb430> triggered tf.function retracing. Tracing is expensive and the excessive number of tracings could be due to (1) creating @tf.function repeatedly in a loop, (2) passing tensors with different shapes, (3) passing Python objects instead of tensors. For (1), please define your @tf.function outside of the loop. For (2), @tf.function has reduce_retracing=True option that can avoid unnecessary retracing. For (3), please refer to https://www.tensorflow.org/guide/function#controlling_retracing and https://www.tensorflow.org/api_docs/python/tf/function for  more details.\n",
      "WARNING:tensorflow:5 out of the last 13 calls to <function Model.make_test_function.<locals>.test_function at 0x12fd31430> triggered tf.function retracing. Tracing is expensive and the excessive number of tracings could be due to (1) creating @tf.function repeatedly in a loop, (2) passing tensors with different shapes, (3) passing Python objects instead of tensors. For (1), please define your @tf.function outside of the loop. For (2), @tf.function has reduce_retracing=True option that can avoid unnecessary retracing. For (3), please refer to https://www.tensorflow.org/guide/function#controlling_retracing and https://www.tensorflow.org/api_docs/python/tf/function for  more details.\n",
      "2022-09-12 12:23:04.020580: I tensorflow/core/platform/cpu_feature_guard.cc:193] This TensorFlow binary is optimized with oneAPI Deep Neural Network Library (oneDNN) to use the following CPU instructions in performance-critical operations:  AVX2 FMA\n",
      "To enable them in other operations, rebuild TensorFlow with the appropriate compiler flags.\n"
     ]
    },
    {
     "data": {
      "text/html": [
       "<style>#sk-container-id-1 {color: black;background-color: white;}#sk-container-id-1 pre{padding: 0;}#sk-container-id-1 div.sk-toggleable {background-color: white;}#sk-container-id-1 label.sk-toggleable__label {cursor: pointer;display: block;width: 100%;margin-bottom: 0;padding: 0.3em;box-sizing: border-box;text-align: center;}#sk-container-id-1 label.sk-toggleable__label-arrow:before {content: \"▸\";float: left;margin-right: 0.25em;color: #696969;}#sk-container-id-1 label.sk-toggleable__label-arrow:hover:before {color: black;}#sk-container-id-1 div.sk-estimator:hover label.sk-toggleable__label-arrow:before {color: black;}#sk-container-id-1 div.sk-toggleable__content {max-height: 0;max-width: 0;overflow: hidden;text-align: left;background-color: #f0f8ff;}#sk-container-id-1 div.sk-toggleable__content pre {margin: 0.2em;color: black;border-radius: 0.25em;background-color: #f0f8ff;}#sk-container-id-1 input.sk-toggleable__control:checked~div.sk-toggleable__content {max-height: 200px;max-width: 100%;overflow: auto;}#sk-container-id-1 input.sk-toggleable__control:checked~label.sk-toggleable__label-arrow:before {content: \"▾\";}#sk-container-id-1 div.sk-estimator input.sk-toggleable__control:checked~label.sk-toggleable__label {background-color: #d4ebff;}#sk-container-id-1 div.sk-label input.sk-toggleable__control:checked~label.sk-toggleable__label {background-color: #d4ebff;}#sk-container-id-1 input.sk-hidden--visually {border: 0;clip: rect(1px 1px 1px 1px);clip: rect(1px, 1px, 1px, 1px);height: 1px;margin: -1px;overflow: hidden;padding: 0;position: absolute;width: 1px;}#sk-container-id-1 div.sk-estimator {font-family: monospace;background-color: #f0f8ff;border: 1px dotted black;border-radius: 0.25em;box-sizing: border-box;margin-bottom: 0.5em;}#sk-container-id-1 div.sk-estimator:hover {background-color: #d4ebff;}#sk-container-id-1 div.sk-parallel-item::after {content: \"\";width: 100%;border-bottom: 1px solid gray;flex-grow: 1;}#sk-container-id-1 div.sk-label:hover label.sk-toggleable__label {background-color: #d4ebff;}#sk-container-id-1 div.sk-serial::before {content: \"\";position: absolute;border-left: 1px solid gray;box-sizing: border-box;top: 0;bottom: 0;left: 50%;z-index: 0;}#sk-container-id-1 div.sk-serial {display: flex;flex-direction: column;align-items: center;background-color: white;padding-right: 0.2em;padding-left: 0.2em;position: relative;}#sk-container-id-1 div.sk-item {position: relative;z-index: 1;}#sk-container-id-1 div.sk-parallel {display: flex;align-items: stretch;justify-content: center;background-color: white;position: relative;}#sk-container-id-1 div.sk-item::before, #sk-container-id-1 div.sk-parallel-item::before {content: \"\";position: absolute;border-left: 1px solid gray;box-sizing: border-box;top: 0;bottom: 0;left: 50%;z-index: -1;}#sk-container-id-1 div.sk-parallel-item {display: flex;flex-direction: column;z-index: 1;position: relative;background-color: white;}#sk-container-id-1 div.sk-parallel-item:first-child::after {align-self: flex-end;width: 50%;}#sk-container-id-1 div.sk-parallel-item:last-child::after {align-self: flex-start;width: 50%;}#sk-container-id-1 div.sk-parallel-item:only-child::after {width: 0;}#sk-container-id-1 div.sk-dashed-wrapped {border: 1px dashed gray;margin: 0 0.4em 0.5em 0.4em;box-sizing: border-box;padding-bottom: 0.4em;background-color: white;}#sk-container-id-1 div.sk-label label {font-family: monospace;font-weight: bold;display: inline-block;line-height: 1.2em;}#sk-container-id-1 div.sk-label-container {text-align: center;}#sk-container-id-1 div.sk-container {/* jupyter's `normalize.less` sets `[hidden] { display: none; }` but bootstrap.min.css set `[hidden] { display: none !important; }` so we also need the `!important` here to be able to override the default hidden behavior on the sphinx rendered scikit-learn.org. See: https://github.com/scikit-learn/scikit-learn/issues/21755 */display: inline-block !important;position: relative;}#sk-container-id-1 div.sk-text-repr-fallback {display: none;}</style><div id=\"sk-container-id-1\" class=\"sk-top-container\"><div class=\"sk-text-repr-fallback\"><pre>GridSearchCV(cv=5,\n",
       "             estimator=Pipeline(steps=[(&#x27;scaler&#x27;, StandardScaler()),\n",
       "                                       (&#x27;model&#x27;,\n",
       "                                        &lt;keras.wrappers.scikit_learn.KerasRegressor object at 0x12f765c70&gt;)]),\n",
       "             n_jobs=-1,\n",
       "             param_grid={&#x27;model__batch_size&#x27;: [50, 70],\n",
       "                         &#x27;model__dropout&#x27;: [0.1, 0.2, 0.3],\n",
       "                         &#x27;model__epochs&#x27;: [50, 80],\n",
       "                         &#x27;model__learn_rate&#x27;: [0.15, 0.2],\n",
       "                         &#x27;model__n1&#x27;: [40, 70],\n",
       "                         &#x27;model__optimizer&#x27;: [&lt;class &#x27;keras.optimizers.optimizer_v2.gradient_descent.SGD&#x27;&gt;,\n",
       "                                              &lt;class &#x27;keras.optimizers.optimizer_v2.adam.Adam&#x27;&gt;]},\n",
       "             verbose=1)</pre><b>In a Jupyter environment, please rerun this cell to show the HTML representation or trust the notebook. <br />On GitHub, the HTML representation is unable to render, please try loading this page with nbviewer.org.</b></div><div class=\"sk-container\" hidden><div class=\"sk-item sk-dashed-wrapped\"><div class=\"sk-label-container\"><div class=\"sk-label sk-toggleable\"><input class=\"sk-toggleable__control sk-hidden--visually\" id=\"sk-estimator-id-1\" type=\"checkbox\" ><label for=\"sk-estimator-id-1\" class=\"sk-toggleable__label sk-toggleable__label-arrow\">GridSearchCV</label><div class=\"sk-toggleable__content\"><pre>GridSearchCV(cv=5,\n",
       "             estimator=Pipeline(steps=[(&#x27;scaler&#x27;, StandardScaler()),\n",
       "                                       (&#x27;model&#x27;,\n",
       "                                        &lt;keras.wrappers.scikit_learn.KerasRegressor object at 0x12f765c70&gt;)]),\n",
       "             n_jobs=-1,\n",
       "             param_grid={&#x27;model__batch_size&#x27;: [50, 70],\n",
       "                         &#x27;model__dropout&#x27;: [0.1, 0.2, 0.3],\n",
       "                         &#x27;model__epochs&#x27;: [50, 80],\n",
       "                         &#x27;model__learn_rate&#x27;: [0.15, 0.2],\n",
       "                         &#x27;model__n1&#x27;: [40, 70],\n",
       "                         &#x27;model__optimizer&#x27;: [&lt;class &#x27;keras.optimizers.optimizer_v2.gradient_descent.SGD&#x27;&gt;,\n",
       "                                              &lt;class &#x27;keras.optimizers.optimizer_v2.adam.Adam&#x27;&gt;]},\n",
       "             verbose=1)</pre></div></div></div><div class=\"sk-parallel\"><div class=\"sk-parallel-item\"><div class=\"sk-item\"><div class=\"sk-label-container\"><div class=\"sk-label sk-toggleable\"><input class=\"sk-toggleable__control sk-hidden--visually\" id=\"sk-estimator-id-2\" type=\"checkbox\" ><label for=\"sk-estimator-id-2\" class=\"sk-toggleable__label sk-toggleable__label-arrow\">estimator: Pipeline</label><div class=\"sk-toggleable__content\"><pre>Pipeline(steps=[(&#x27;scaler&#x27;, StandardScaler()),\n",
       "                (&#x27;model&#x27;,\n",
       "                 &lt;keras.wrappers.scikit_learn.KerasRegressor object at 0x12f765c70&gt;)])</pre></div></div></div><div class=\"sk-serial\"><div class=\"sk-item\"><div class=\"sk-serial\"><div class=\"sk-item\"><div class=\"sk-estimator sk-toggleable\"><input class=\"sk-toggleable__control sk-hidden--visually\" id=\"sk-estimator-id-3\" type=\"checkbox\" ><label for=\"sk-estimator-id-3\" class=\"sk-toggleable__label sk-toggleable__label-arrow\">StandardScaler</label><div class=\"sk-toggleable__content\"><pre>StandardScaler()</pre></div></div></div><div class=\"sk-item\"><div class=\"sk-estimator sk-toggleable\"><input class=\"sk-toggleable__control sk-hidden--visually\" id=\"sk-estimator-id-4\" type=\"checkbox\" ><label for=\"sk-estimator-id-4\" class=\"sk-toggleable__label sk-toggleable__label-arrow\">KerasRegressor</label><div class=\"sk-toggleable__content\"><pre>&lt;keras.wrappers.scikit_learn.KerasRegressor object at 0x12f765c70&gt;</pre></div></div></div></div></div></div></div></div></div></div></div></div>"
      ],
      "text/plain": [
       "GridSearchCV(cv=5,\n",
       "             estimator=Pipeline(steps=[('scaler', StandardScaler()),\n",
       "                                       ('model',\n",
       "                                        <keras.wrappers.scikit_learn.KerasRegressor object at 0x12f765c70>)]),\n",
       "             n_jobs=-1,\n",
       "             param_grid={'model__batch_size': [50, 70],\n",
       "                         'model__dropout': [0.1, 0.2, 0.3],\n",
       "                         'model__epochs': [50, 80],\n",
       "                         'model__learn_rate': [0.15, 0.2],\n",
       "                         'model__n1': [40, 70],\n",
       "                         'model__optimizer': [<class 'keras.optimizers.optimizer_v2.gradient_descent.SGD'>,\n",
       "                                              <class 'keras.optimizers.optimizer_v2.adam.Adam'>]},\n",
       "             verbose=1)"
      ]
     },
     "execution_count": 7,
     "metadata": {},
     "output_type": "execute_result"
    }
   ],
   "source": [
    "grid_NN.fit(x_train,y_train)"
   ]
  },
  {
   "cell_type": "code",
   "execution_count": null,
   "id": "1291f037-04e7-4331-9ab2-d1146ebe2512",
   "metadata": {},
   "outputs": [
    {
     "data": {
      "text/plain": [
       "{'model__batch_size': 50,\n",
       " 'model__dropout': 0.1,\n",
       " 'model__epochs': 50,\n",
       " 'model__learn_rate': 0.2,\n",
       " 'model__n1': 40,\n",
       " 'model__optimizer': keras.optimizers.optimizer_v2.gradient_descent.SGD}"
      ]
     },
     "execution_count": 8,
     "metadata": {},
     "output_type": "execute_result"
    }
   ],
   "source": [
    "grid_NN.best_params_"
   ]
  },
  {
   "cell_type": "code",
   "execution_count": 9,
   "id": "394954fc-ea5b-480f-847e-54092a1c85b4",
   "metadata": {},
   "outputs": [],
   "source": [
    "# param_grid2 = {'model__epochs': [60, 70, 80],\n",
    "#               'model__n1': [30,40],\n",
    "#               'model__n2': [30,40],\n",
    "#               'model__batch_size':[40, 50, 60],\n",
    "#               'model__dropout': [0.15, 0.2, 0.25],\n",
    "#               'model__optimizer': [keras.optimizers.SGD],#['RMSprop', 'Adam', 'sgd'],\n",
    "#               'model__learn_rate': [0.12, 0.15, 0.18]\n",
    "#              }\n",
    "\n",
    "param_grid2 = {'model__epochs': [50, 60],\n",
    "              'model__n1': [40, 50],\n",
    "              #'model__n2': [30,40],\n",
    "              'model__batch_size':[50, 60],\n",
    "              'model__dropout': [0.1, 0.12, 0.15],\n",
    "              'model__optimizer': [keras.optimizers.SGD],#['RMSprop', 'Adam', 'sgd'],\n",
    "              'model__learn_rate': [0.18, 0.2, 0.22]\n",
    "             }\n",
    "\n",
    "grid_NN2 = GridSearchCV(estimator=estimator, param_grid=param_grid2, n_jobs=-1, cv=5, verbose=1)"
   ]
  },
  {
   "cell_type": "code",
   "execution_count": 10,
   "id": "cd197b61-0586-4f7e-ad9e-d8eb8295902c",
   "metadata": {},
   "outputs": [
    {
     "name": "stdout",
     "output_type": "stream",
     "text": [
      "Fitting 5 folds for each of 72 candidates, totalling 360 fits\n"
     ]
    },
    {
     "name": "stderr",
     "output_type": "stream",
     "text": [
      "2022-09-12 12:28:33.115962: I tensorflow/core/platform/cpu_feature_guard.cc:193] This TensorFlow binary is optimized with oneAPI Deep Neural Network Library (oneDNN) to use the following CPU instructions in performance-critical operations:  AVX2 FMA\n",
      "To enable them in other operations, rebuild TensorFlow with the appropriate compiler flags.\n",
      "2022-09-12 12:28:33.115964: I tensorflow/core/platform/cpu_feature_guard.cc:193] This TensorFlow binary is optimized with oneAPI Deep Neural Network Library (oneDNN) to use the following CPU instructions in performance-critical operations:  AVX2 FMA\n",
      "To enable them in other operations, rebuild TensorFlow with the appropriate compiler flags.\n",
      "2022-09-12 12:28:33.118751: I tensorflow/core/platform/cpu_feature_guard.cc:193] This TensorFlow binary is optimized with oneAPI Deep Neural Network Library (oneDNN) to use the following CPU instructions in performance-critical operations:  AVX2 FMA\n",
      "To enable them in other operations, rebuild TensorFlow with the appropriate compiler flags.\n",
      "2022-09-12 12:28:33.129547: I tensorflow/core/platform/cpu_feature_guard.cc:193] This TensorFlow binary is optimized with oneAPI Deep Neural Network Library (oneDNN) to use the following CPU instructions in performance-critical operations:  AVX2 FMA\n",
      "To enable them in other operations, rebuild TensorFlow with the appropriate compiler flags.\n",
      "2022-09-12 12:28:48.193381: I tensorflow/core/platform/cpu_feature_guard.cc:193] This TensorFlow binary is optimized with oneAPI Deep Neural Network Library (oneDNN) to use the following CPU instructions in performance-critical operations:  AVX2 FMA\n",
      "To enable them in other operations, rebuild TensorFlow with the appropriate compiler flags.\n",
      "2022-09-12 12:28:48.193484: I tensorflow/core/platform/cpu_feature_guard.cc:193] This TensorFlow binary is optimized with oneAPI Deep Neural Network Library (oneDNN) to use the following CPU instructions in performance-critical operations:  AVX2 FMA\n",
      "To enable them in other operations, rebuild TensorFlow with the appropriate compiler flags.\n",
      "2022-09-12 12:28:48.193381: I tensorflow/core/platform/cpu_feature_guard.cc:193] This TensorFlow binary is optimized with oneAPI Deep Neural Network Library (oneDNN) to use the following CPU instructions in performance-critical operations:  AVX2 FMA\n",
      "To enable them in other operations, rebuild TensorFlow with the appropriate compiler flags.\n",
      "2022-09-12 12:28:48.193952: I tensorflow/core/platform/cpu_feature_guard.cc:193] This TensorFlow binary is optimized with oneAPI Deep Neural Network Library (oneDNN) to use the following CPU instructions in performance-critical operations:  AVX2 FMA\n",
      "To enable them in other operations, rebuild TensorFlow with the appropriate compiler flags.\n",
      "WARNING:tensorflow:5 out of the last 13 calls to <function Model.make_test_function.<locals>.test_function at 0x12325d280> triggered tf.function retracing. Tracing is expensive and the excessive number of tracings could be due to (1) creating @tf.function repeatedly in a loop, (2) passing tensors with different shapes, (3) passing Python objects instead of tensors. For (1), please define your @tf.function outside of the loop. For (2), @tf.function has reduce_retracing=True option that can avoid unnecessary retracing. For (3), please refer to https://www.tensorflow.org/guide/function#controlling_retracing and https://www.tensorflow.org/api_docs/python/tf/function for  more details.\n",
      "WARNING:tensorflow:5 out of the last 13 calls to <function Model.make_test_function.<locals>.test_function at 0x12806a280> triggered tf.function retracing. Tracing is expensive and the excessive number of tracings could be due to (1) creating @tf.function repeatedly in a loop, (2) passing tensors with different shapes, (3) passing Python objects instead of tensors. For (1), please define your @tf.function outside of the loop. For (2), @tf.function has reduce_retracing=True option that can avoid unnecessary retracing. For (3), please refer to https://www.tensorflow.org/guide/function#controlling_retracing and https://www.tensorflow.org/api_docs/python/tf/function for  more details.\n",
      "WARNING:tensorflow:5 out of the last 13 calls to <function Model.make_test_function.<locals>.test_function at 0x126b11280> triggered tf.function retracing. Tracing is expensive and the excessive number of tracings could be due to (1) creating @tf.function repeatedly in a loop, (2) passing tensors with different shapes, (3) passing Python objects instead of tensors. For (1), please define your @tf.function outside of the loop. For (2), @tf.function has reduce_retracing=True option that can avoid unnecessary retracing. For (3), please refer to https://www.tensorflow.org/guide/function#controlling_retracing and https://www.tensorflow.org/api_docs/python/tf/function for  more details.\n",
      "WARNING:tensorflow:5 out of the last 13 calls to <function Model.make_test_function.<locals>.test_function at 0x121cf5280> triggered tf.function retracing. Tracing is expensive and the excessive number of tracings could be due to (1) creating @tf.function repeatedly in a loop, (2) passing tensors with different shapes, (3) passing Python objects instead of tensors. For (1), please define your @tf.function outside of the loop. For (2), @tf.function has reduce_retracing=True option that can avoid unnecessary retracing. For (3), please refer to https://www.tensorflow.org/guide/function#controlling_retracing and https://www.tensorflow.org/api_docs/python/tf/function for  more details.\n",
      "WARNING:tensorflow:5 out of the last 13 calls to <function Model.make_test_function.<locals>.test_function at 0x12332fdc0> triggered tf.function retracing. Tracing is expensive and the excessive number of tracings could be due to (1) creating @tf.function repeatedly in a loop, (2) passing tensors with different shapes, (3) passing Python objects instead of tensors. For (1), please define your @tf.function outside of the loop. For (2), @tf.function has reduce_retracing=True option that can avoid unnecessary retracing. For (3), please refer to https://www.tensorflow.org/guide/function#controlling_retracing and https://www.tensorflow.org/api_docs/python/tf/function for  more details.\n",
      "WARNING:tensorflow:5 out of the last 13 calls to <function Model.make_test_function.<locals>.test_function at 0x12813cdc0> triggered tf.function retracing. Tracing is expensive and the excessive number of tracings could be due to (1) creating @tf.function repeatedly in a loop, (2) passing tensors with different shapes, (3) passing Python objects instead of tensors. For (1), please define your @tf.function outside of the loop. For (2), @tf.function has reduce_retracing=True option that can avoid unnecessary retracing. For (3), please refer to https://www.tensorflow.org/guide/function#controlling_retracing and https://www.tensorflow.org/api_docs/python/tf/function for  more details.\n",
      "WARNING:tensorflow:5 out of the last 13 calls to <function Model.make_test_function.<locals>.test_function at 0x126be3dc0> triggered tf.function retracing. Tracing is expensive and the excessive number of tracings could be due to (1) creating @tf.function repeatedly in a loop, (2) passing tensors with different shapes, (3) passing Python objects instead of tensors. For (1), please define your @tf.function outside of the loop. For (2), @tf.function has reduce_retracing=True option that can avoid unnecessary retracing. For (3), please refer to https://www.tensorflow.org/guide/function#controlling_retracing and https://www.tensorflow.org/api_docs/python/tf/function for  more details.\n",
      "WARNING:tensorflow:5 out of the last 13 calls to <function Model.make_test_function.<locals>.test_function at 0x121dc7dc0> triggered tf.function retracing. Tracing is expensive and the excessive number of tracings could be due to (1) creating @tf.function repeatedly in a loop, (2) passing tensors with different shapes, (3) passing Python objects instead of tensors. For (1), please define your @tf.function outside of the loop. For (2), @tf.function has reduce_retracing=True option that can avoid unnecessary retracing. For (3), please refer to https://www.tensorflow.org/guide/function#controlling_retracing and https://www.tensorflow.org/api_docs/python/tf/function for  more details.\n"
     ]
    },
    {
     "data": {
      "text/html": [
       "<style>#sk-container-id-2 {color: black;background-color: white;}#sk-container-id-2 pre{padding: 0;}#sk-container-id-2 div.sk-toggleable {background-color: white;}#sk-container-id-2 label.sk-toggleable__label {cursor: pointer;display: block;width: 100%;margin-bottom: 0;padding: 0.3em;box-sizing: border-box;text-align: center;}#sk-container-id-2 label.sk-toggleable__label-arrow:before {content: \"▸\";float: left;margin-right: 0.25em;color: #696969;}#sk-container-id-2 label.sk-toggleable__label-arrow:hover:before {color: black;}#sk-container-id-2 div.sk-estimator:hover label.sk-toggleable__label-arrow:before {color: black;}#sk-container-id-2 div.sk-toggleable__content {max-height: 0;max-width: 0;overflow: hidden;text-align: left;background-color: #f0f8ff;}#sk-container-id-2 div.sk-toggleable__content pre {margin: 0.2em;color: black;border-radius: 0.25em;background-color: #f0f8ff;}#sk-container-id-2 input.sk-toggleable__control:checked~div.sk-toggleable__content {max-height: 200px;max-width: 100%;overflow: auto;}#sk-container-id-2 input.sk-toggleable__control:checked~label.sk-toggleable__label-arrow:before {content: \"▾\";}#sk-container-id-2 div.sk-estimator input.sk-toggleable__control:checked~label.sk-toggleable__label {background-color: #d4ebff;}#sk-container-id-2 div.sk-label input.sk-toggleable__control:checked~label.sk-toggleable__label {background-color: #d4ebff;}#sk-container-id-2 input.sk-hidden--visually {border: 0;clip: rect(1px 1px 1px 1px);clip: rect(1px, 1px, 1px, 1px);height: 1px;margin: -1px;overflow: hidden;padding: 0;position: absolute;width: 1px;}#sk-container-id-2 div.sk-estimator {font-family: monospace;background-color: #f0f8ff;border: 1px dotted black;border-radius: 0.25em;box-sizing: border-box;margin-bottom: 0.5em;}#sk-container-id-2 div.sk-estimator:hover {background-color: #d4ebff;}#sk-container-id-2 div.sk-parallel-item::after {content: \"\";width: 100%;border-bottom: 1px solid gray;flex-grow: 1;}#sk-container-id-2 div.sk-label:hover label.sk-toggleable__label {background-color: #d4ebff;}#sk-container-id-2 div.sk-serial::before {content: \"\";position: absolute;border-left: 1px solid gray;box-sizing: border-box;top: 0;bottom: 0;left: 50%;z-index: 0;}#sk-container-id-2 div.sk-serial {display: flex;flex-direction: column;align-items: center;background-color: white;padding-right: 0.2em;padding-left: 0.2em;position: relative;}#sk-container-id-2 div.sk-item {position: relative;z-index: 1;}#sk-container-id-2 div.sk-parallel {display: flex;align-items: stretch;justify-content: center;background-color: white;position: relative;}#sk-container-id-2 div.sk-item::before, #sk-container-id-2 div.sk-parallel-item::before {content: \"\";position: absolute;border-left: 1px solid gray;box-sizing: border-box;top: 0;bottom: 0;left: 50%;z-index: -1;}#sk-container-id-2 div.sk-parallel-item {display: flex;flex-direction: column;z-index: 1;position: relative;background-color: white;}#sk-container-id-2 div.sk-parallel-item:first-child::after {align-self: flex-end;width: 50%;}#sk-container-id-2 div.sk-parallel-item:last-child::after {align-self: flex-start;width: 50%;}#sk-container-id-2 div.sk-parallel-item:only-child::after {width: 0;}#sk-container-id-2 div.sk-dashed-wrapped {border: 1px dashed gray;margin: 0 0.4em 0.5em 0.4em;box-sizing: border-box;padding-bottom: 0.4em;background-color: white;}#sk-container-id-2 div.sk-label label {font-family: monospace;font-weight: bold;display: inline-block;line-height: 1.2em;}#sk-container-id-2 div.sk-label-container {text-align: center;}#sk-container-id-2 div.sk-container {/* jupyter's `normalize.less` sets `[hidden] { display: none; }` but bootstrap.min.css set `[hidden] { display: none !important; }` so we also need the `!important` here to be able to override the default hidden behavior on the sphinx rendered scikit-learn.org. See: https://github.com/scikit-learn/scikit-learn/issues/21755 */display: inline-block !important;position: relative;}#sk-container-id-2 div.sk-text-repr-fallback {display: none;}</style><div id=\"sk-container-id-2\" class=\"sk-top-container\"><div class=\"sk-text-repr-fallback\"><pre>GridSearchCV(cv=5,\n",
       "             estimator=Pipeline(steps=[(&#x27;scaler&#x27;, StandardScaler()),\n",
       "                                       (&#x27;model&#x27;,\n",
       "                                        &lt;keras.wrappers.scikit_learn.KerasRegressor object at 0x12f765c70&gt;)]),\n",
       "             n_jobs=-1,\n",
       "             param_grid={&#x27;model__batch_size&#x27;: [50, 60],\n",
       "                         &#x27;model__dropout&#x27;: [0.1, 0.12, 0.15],\n",
       "                         &#x27;model__epochs&#x27;: [50, 60],\n",
       "                         &#x27;model__learn_rate&#x27;: [0.18, 0.2, 0.22],\n",
       "                         &#x27;model__n1&#x27;: [40, 50],\n",
       "                         &#x27;model__optimizer&#x27;: [&lt;class &#x27;keras.optimizers.optimizer_v2.gradient_descent.SGD&#x27;&gt;]},\n",
       "             verbose=1)</pre><b>In a Jupyter environment, please rerun this cell to show the HTML representation or trust the notebook. <br />On GitHub, the HTML representation is unable to render, please try loading this page with nbviewer.org.</b></div><div class=\"sk-container\" hidden><div class=\"sk-item sk-dashed-wrapped\"><div class=\"sk-label-container\"><div class=\"sk-label sk-toggleable\"><input class=\"sk-toggleable__control sk-hidden--visually\" id=\"sk-estimator-id-5\" type=\"checkbox\" ><label for=\"sk-estimator-id-5\" class=\"sk-toggleable__label sk-toggleable__label-arrow\">GridSearchCV</label><div class=\"sk-toggleable__content\"><pre>GridSearchCV(cv=5,\n",
       "             estimator=Pipeline(steps=[(&#x27;scaler&#x27;, StandardScaler()),\n",
       "                                       (&#x27;model&#x27;,\n",
       "                                        &lt;keras.wrappers.scikit_learn.KerasRegressor object at 0x12f765c70&gt;)]),\n",
       "             n_jobs=-1,\n",
       "             param_grid={&#x27;model__batch_size&#x27;: [50, 60],\n",
       "                         &#x27;model__dropout&#x27;: [0.1, 0.12, 0.15],\n",
       "                         &#x27;model__epochs&#x27;: [50, 60],\n",
       "                         &#x27;model__learn_rate&#x27;: [0.18, 0.2, 0.22],\n",
       "                         &#x27;model__n1&#x27;: [40, 50],\n",
       "                         &#x27;model__optimizer&#x27;: [&lt;class &#x27;keras.optimizers.optimizer_v2.gradient_descent.SGD&#x27;&gt;]},\n",
       "             verbose=1)</pre></div></div></div><div class=\"sk-parallel\"><div class=\"sk-parallel-item\"><div class=\"sk-item\"><div class=\"sk-label-container\"><div class=\"sk-label sk-toggleable\"><input class=\"sk-toggleable__control sk-hidden--visually\" id=\"sk-estimator-id-6\" type=\"checkbox\" ><label for=\"sk-estimator-id-6\" class=\"sk-toggleable__label sk-toggleable__label-arrow\">estimator: Pipeline</label><div class=\"sk-toggleable__content\"><pre>Pipeline(steps=[(&#x27;scaler&#x27;, StandardScaler()),\n",
       "                (&#x27;model&#x27;,\n",
       "                 &lt;keras.wrappers.scikit_learn.KerasRegressor object at 0x12f765c70&gt;)])</pre></div></div></div><div class=\"sk-serial\"><div class=\"sk-item\"><div class=\"sk-serial\"><div class=\"sk-item\"><div class=\"sk-estimator sk-toggleable\"><input class=\"sk-toggleable__control sk-hidden--visually\" id=\"sk-estimator-id-7\" type=\"checkbox\" ><label for=\"sk-estimator-id-7\" class=\"sk-toggleable__label sk-toggleable__label-arrow\">StandardScaler</label><div class=\"sk-toggleable__content\"><pre>StandardScaler()</pre></div></div></div><div class=\"sk-item\"><div class=\"sk-estimator sk-toggleable\"><input class=\"sk-toggleable__control sk-hidden--visually\" id=\"sk-estimator-id-8\" type=\"checkbox\" ><label for=\"sk-estimator-id-8\" class=\"sk-toggleable__label sk-toggleable__label-arrow\">KerasRegressor</label><div class=\"sk-toggleable__content\"><pre>&lt;keras.wrappers.scikit_learn.KerasRegressor object at 0x12f765c70&gt;</pre></div></div></div></div></div></div></div></div></div></div></div></div>"
      ],
      "text/plain": [
       "GridSearchCV(cv=5,\n",
       "             estimator=Pipeline(steps=[('scaler', StandardScaler()),\n",
       "                                       ('model',\n",
       "                                        <keras.wrappers.scikit_learn.KerasRegressor object at 0x12f765c70>)]),\n",
       "             n_jobs=-1,\n",
       "             param_grid={'model__batch_size': [50, 60],\n",
       "                         'model__dropout': [0.1, 0.12, 0.15],\n",
       "                         'model__epochs': [50, 60],\n",
       "                         'model__learn_rate': [0.18, 0.2, 0.22],\n",
       "                         'model__n1': [40, 50],\n",
       "                         'model__optimizer': [<class 'keras.optimizers.optimizer_v2.gradient_descent.SGD'>]},\n",
       "             verbose=1)"
      ]
     },
     "execution_count": 10,
     "metadata": {},
     "output_type": "execute_result"
    }
   ],
   "source": [
    "grid_NN2.fit(x_train, y_train)"
   ]
  },
  {
   "cell_type": "code",
   "execution_count": 11,
   "id": "5eb054ff-324e-47f5-8f8c-e5dc9917fde8",
   "metadata": {},
   "outputs": [
    {
     "data": {
      "text/plain": [
       "{'model__batch_size': 60,\n",
       " 'model__dropout': 0.1,\n",
       " 'model__epochs': 60,\n",
       " 'model__learn_rate': 0.22,\n",
       " 'model__n1': 50,\n",
       " 'model__optimizer': keras.optimizers.optimizer_v2.gradient_descent.SGD}"
      ]
     },
     "execution_count": 11,
     "metadata": {},
     "output_type": "execute_result"
    }
   ],
   "source": [
    "grid_NN2.best_params_"
   ]
  },
  {
   "cell_type": "code",
   "execution_count": 12,
   "id": "0512d061-657e-47a1-9bf4-fcd0089e526e",
   "metadata": {},
   "outputs": [],
   "source": [
    "# param_grid3 = {'model__epochs': [70, 100],\n",
    "#               'model__n1': [30,40],\n",
    "#               'model__n2': [40,50],\n",
    "#               'model__batch_size':[40, 50],\n",
    "#               'model__dropout': [0.15, 0.18],\n",
    "#               'model__optimizer': [keras.optimizers.SGD],#['RMSprop', 'Adam', 'sgd'],\n",
    "#               'model__learn_rate': [0.15]\n",
    "#              }\n",
    "\n",
    "param_grid3 = {'model__epochs': [60, 70],\n",
    "              'model__n1': [50, 60],\n",
    "              #'model__n2': [40,50],\n",
    "              'model__batch_size':[60],\n",
    "              'model__dropout': [0.1, 0.13],\n",
    "              'model__optimizer': [keras.optimizers.SGD],#['RMSprop', 'Adam', 'sgd'],\n",
    "              'model__learn_rate': [0.2, 0.22, 0.25]\n",
    "             }\n",
    "\n",
    "grid_NN3 = GridSearchCV(estimator=estimator, param_grid=param_grid3, n_jobs=-1, cv=5, verbose=1)"
   ]
  },
  {
   "cell_type": "code",
   "execution_count": 13,
   "id": "cef48179-2bf4-4aa3-be35-727898189498",
   "metadata": {},
   "outputs": [
    {
     "name": "stdout",
     "output_type": "stream",
     "text": [
      "Fitting 5 folds for each of 24 candidates, totalling 120 fits\n"
     ]
    },
    {
     "data": {
      "text/html": [
       "<style>#sk-container-id-3 {color: black;background-color: white;}#sk-container-id-3 pre{padding: 0;}#sk-container-id-3 div.sk-toggleable {background-color: white;}#sk-container-id-3 label.sk-toggleable__label {cursor: pointer;display: block;width: 100%;margin-bottom: 0;padding: 0.3em;box-sizing: border-box;text-align: center;}#sk-container-id-3 label.sk-toggleable__label-arrow:before {content: \"▸\";float: left;margin-right: 0.25em;color: #696969;}#sk-container-id-3 label.sk-toggleable__label-arrow:hover:before {color: black;}#sk-container-id-3 div.sk-estimator:hover label.sk-toggleable__label-arrow:before {color: black;}#sk-container-id-3 div.sk-toggleable__content {max-height: 0;max-width: 0;overflow: hidden;text-align: left;background-color: #f0f8ff;}#sk-container-id-3 div.sk-toggleable__content pre {margin: 0.2em;color: black;border-radius: 0.25em;background-color: #f0f8ff;}#sk-container-id-3 input.sk-toggleable__control:checked~div.sk-toggleable__content {max-height: 200px;max-width: 100%;overflow: auto;}#sk-container-id-3 input.sk-toggleable__control:checked~label.sk-toggleable__label-arrow:before {content: \"▾\";}#sk-container-id-3 div.sk-estimator input.sk-toggleable__control:checked~label.sk-toggleable__label {background-color: #d4ebff;}#sk-container-id-3 div.sk-label input.sk-toggleable__control:checked~label.sk-toggleable__label {background-color: #d4ebff;}#sk-container-id-3 input.sk-hidden--visually {border: 0;clip: rect(1px 1px 1px 1px);clip: rect(1px, 1px, 1px, 1px);height: 1px;margin: -1px;overflow: hidden;padding: 0;position: absolute;width: 1px;}#sk-container-id-3 div.sk-estimator {font-family: monospace;background-color: #f0f8ff;border: 1px dotted black;border-radius: 0.25em;box-sizing: border-box;margin-bottom: 0.5em;}#sk-container-id-3 div.sk-estimator:hover {background-color: #d4ebff;}#sk-container-id-3 div.sk-parallel-item::after {content: \"\";width: 100%;border-bottom: 1px solid gray;flex-grow: 1;}#sk-container-id-3 div.sk-label:hover label.sk-toggleable__label {background-color: #d4ebff;}#sk-container-id-3 div.sk-serial::before {content: \"\";position: absolute;border-left: 1px solid gray;box-sizing: border-box;top: 0;bottom: 0;left: 50%;z-index: 0;}#sk-container-id-3 div.sk-serial {display: flex;flex-direction: column;align-items: center;background-color: white;padding-right: 0.2em;padding-left: 0.2em;position: relative;}#sk-container-id-3 div.sk-item {position: relative;z-index: 1;}#sk-container-id-3 div.sk-parallel {display: flex;align-items: stretch;justify-content: center;background-color: white;position: relative;}#sk-container-id-3 div.sk-item::before, #sk-container-id-3 div.sk-parallel-item::before {content: \"\";position: absolute;border-left: 1px solid gray;box-sizing: border-box;top: 0;bottom: 0;left: 50%;z-index: -1;}#sk-container-id-3 div.sk-parallel-item {display: flex;flex-direction: column;z-index: 1;position: relative;background-color: white;}#sk-container-id-3 div.sk-parallel-item:first-child::after {align-self: flex-end;width: 50%;}#sk-container-id-3 div.sk-parallel-item:last-child::after {align-self: flex-start;width: 50%;}#sk-container-id-3 div.sk-parallel-item:only-child::after {width: 0;}#sk-container-id-3 div.sk-dashed-wrapped {border: 1px dashed gray;margin: 0 0.4em 0.5em 0.4em;box-sizing: border-box;padding-bottom: 0.4em;background-color: white;}#sk-container-id-3 div.sk-label label {font-family: monospace;font-weight: bold;display: inline-block;line-height: 1.2em;}#sk-container-id-3 div.sk-label-container {text-align: center;}#sk-container-id-3 div.sk-container {/* jupyter's `normalize.less` sets `[hidden] { display: none; }` but bootstrap.min.css set `[hidden] { display: none !important; }` so we also need the `!important` here to be able to override the default hidden behavior on the sphinx rendered scikit-learn.org. See: https://github.com/scikit-learn/scikit-learn/issues/21755 */display: inline-block !important;position: relative;}#sk-container-id-3 div.sk-text-repr-fallback {display: none;}</style><div id=\"sk-container-id-3\" class=\"sk-top-container\"><div class=\"sk-text-repr-fallback\"><pre>GridSearchCV(cv=5,\n",
       "             estimator=Pipeline(steps=[(&#x27;scaler&#x27;, StandardScaler()),\n",
       "                                       (&#x27;model&#x27;,\n",
       "                                        &lt;keras.wrappers.scikit_learn.KerasRegressor object at 0x12f765c70&gt;)]),\n",
       "             n_jobs=-1,\n",
       "             param_grid={&#x27;model__batch_size&#x27;: [60],\n",
       "                         &#x27;model__dropout&#x27;: [0.1, 0.13],\n",
       "                         &#x27;model__epochs&#x27;: [60, 70],\n",
       "                         &#x27;model__learn_rate&#x27;: [0.2, 0.22, 0.25],\n",
       "                         &#x27;model__n1&#x27;: [50, 60],\n",
       "                         &#x27;model__optimizer&#x27;: [&lt;class &#x27;keras.optimizers.optimizer_v2.gradient_descent.SGD&#x27;&gt;]},\n",
       "             verbose=1)</pre><b>In a Jupyter environment, please rerun this cell to show the HTML representation or trust the notebook. <br />On GitHub, the HTML representation is unable to render, please try loading this page with nbviewer.org.</b></div><div class=\"sk-container\" hidden><div class=\"sk-item sk-dashed-wrapped\"><div class=\"sk-label-container\"><div class=\"sk-label sk-toggleable\"><input class=\"sk-toggleable__control sk-hidden--visually\" id=\"sk-estimator-id-9\" type=\"checkbox\" ><label for=\"sk-estimator-id-9\" class=\"sk-toggleable__label sk-toggleable__label-arrow\">GridSearchCV</label><div class=\"sk-toggleable__content\"><pre>GridSearchCV(cv=5,\n",
       "             estimator=Pipeline(steps=[(&#x27;scaler&#x27;, StandardScaler()),\n",
       "                                       (&#x27;model&#x27;,\n",
       "                                        &lt;keras.wrappers.scikit_learn.KerasRegressor object at 0x12f765c70&gt;)]),\n",
       "             n_jobs=-1,\n",
       "             param_grid={&#x27;model__batch_size&#x27;: [60],\n",
       "                         &#x27;model__dropout&#x27;: [0.1, 0.13],\n",
       "                         &#x27;model__epochs&#x27;: [60, 70],\n",
       "                         &#x27;model__learn_rate&#x27;: [0.2, 0.22, 0.25],\n",
       "                         &#x27;model__n1&#x27;: [50, 60],\n",
       "                         &#x27;model__optimizer&#x27;: [&lt;class &#x27;keras.optimizers.optimizer_v2.gradient_descent.SGD&#x27;&gt;]},\n",
       "             verbose=1)</pre></div></div></div><div class=\"sk-parallel\"><div class=\"sk-parallel-item\"><div class=\"sk-item\"><div class=\"sk-label-container\"><div class=\"sk-label sk-toggleable\"><input class=\"sk-toggleable__control sk-hidden--visually\" id=\"sk-estimator-id-10\" type=\"checkbox\" ><label for=\"sk-estimator-id-10\" class=\"sk-toggleable__label sk-toggleable__label-arrow\">estimator: Pipeline</label><div class=\"sk-toggleable__content\"><pre>Pipeline(steps=[(&#x27;scaler&#x27;, StandardScaler()),\n",
       "                (&#x27;model&#x27;,\n",
       "                 &lt;keras.wrappers.scikit_learn.KerasRegressor object at 0x12f765c70&gt;)])</pre></div></div></div><div class=\"sk-serial\"><div class=\"sk-item\"><div class=\"sk-serial\"><div class=\"sk-item\"><div class=\"sk-estimator sk-toggleable\"><input class=\"sk-toggleable__control sk-hidden--visually\" id=\"sk-estimator-id-11\" type=\"checkbox\" ><label for=\"sk-estimator-id-11\" class=\"sk-toggleable__label sk-toggleable__label-arrow\">StandardScaler</label><div class=\"sk-toggleable__content\"><pre>StandardScaler()</pre></div></div></div><div class=\"sk-item\"><div class=\"sk-estimator sk-toggleable\"><input class=\"sk-toggleable__control sk-hidden--visually\" id=\"sk-estimator-id-12\" type=\"checkbox\" ><label for=\"sk-estimator-id-12\" class=\"sk-toggleable__label sk-toggleable__label-arrow\">KerasRegressor</label><div class=\"sk-toggleable__content\"><pre>&lt;keras.wrappers.scikit_learn.KerasRegressor object at 0x12f765c70&gt;</pre></div></div></div></div></div></div></div></div></div></div></div></div>"
      ],
      "text/plain": [
       "GridSearchCV(cv=5,\n",
       "             estimator=Pipeline(steps=[('scaler', StandardScaler()),\n",
       "                                       ('model',\n",
       "                                        <keras.wrappers.scikit_learn.KerasRegressor object at 0x12f765c70>)]),\n",
       "             n_jobs=-1,\n",
       "             param_grid={'model__batch_size': [60],\n",
       "                         'model__dropout': [0.1, 0.13],\n",
       "                         'model__epochs': [60, 70],\n",
       "                         'model__learn_rate': [0.2, 0.22, 0.25],\n",
       "                         'model__n1': [50, 60],\n",
       "                         'model__optimizer': [<class 'keras.optimizers.optimizer_v2.gradient_descent.SGD'>]},\n",
       "             verbose=1)"
      ]
     },
     "execution_count": 13,
     "metadata": {},
     "output_type": "execute_result"
    }
   ],
   "source": [
    "grid_NN3.fit(x_train, y_train)"
   ]
  },
  {
   "cell_type": "code",
   "execution_count": 14,
   "id": "84e02967-7167-449a-bd36-85ef7dbdaf55",
   "metadata": {},
   "outputs": [
    {
     "data": {
      "text/plain": [
       "{'model__batch_size': 60,\n",
       " 'model__dropout': 0.13,\n",
       " 'model__epochs': 60,\n",
       " 'model__learn_rate': 0.25,\n",
       " 'model__n1': 50,\n",
       " 'model__optimizer': keras.optimizers.optimizer_v2.gradient_descent.SGD}"
      ]
     },
     "execution_count": 14,
     "metadata": {},
     "output_type": "execute_result"
    }
   ],
   "source": [
    "grid_NN3.best_params_"
   ]
  },
  {
   "cell_type": "code",
   "execution_count": 17,
   "id": "de50211b-6928-423f-b0f0-ce8cb3a6cf00",
   "metadata": {},
   "outputs": [],
   "source": [
    "# param_grid4 = {'model__epochs': [80, 100],\n",
    "#               'model__n1': [40,50],\n",
    "#               'model__n2': [50,60],\n",
    "#               'model__batch_size':[40],\n",
    "#               'model__dropout': [0.15, 0.18],\n",
    "#               'model__optimizer': [keras.optimizers.SGD],#['RMSprop', 'Adam', 'sgd'],\n",
    "#               'model__learn_rate': [0.15]\n",
    "#              }\n",
    "\n",
    "# grid_NN4 = GridSearchCV(estimator=estimator, param_grid=param_grid4, n_jobs=-1, cv=5, verbose=1)"
   ]
  },
  {
   "cell_type": "code",
   "execution_count": 19,
   "id": "78dcae18-dbd6-4ae9-b0ca-3bea9e2f95b4",
   "metadata": {},
   "outputs": [
    {
     "name": "stdout",
     "output_type": "stream",
     "text": [
      "Fitting 5 folds for each of 16 candidates, totalling 80 fits\n"
     ]
    },
    {
     "data": {
      "text/html": [
       "<style>#sk-container-id-4 {color: black;background-color: white;}#sk-container-id-4 pre{padding: 0;}#sk-container-id-4 div.sk-toggleable {background-color: white;}#sk-container-id-4 label.sk-toggleable__label {cursor: pointer;display: block;width: 100%;margin-bottom: 0;padding: 0.3em;box-sizing: border-box;text-align: center;}#sk-container-id-4 label.sk-toggleable__label-arrow:before {content: \"▸\";float: left;margin-right: 0.25em;color: #696969;}#sk-container-id-4 label.sk-toggleable__label-arrow:hover:before {color: black;}#sk-container-id-4 div.sk-estimator:hover label.sk-toggleable__label-arrow:before {color: black;}#sk-container-id-4 div.sk-toggleable__content {max-height: 0;max-width: 0;overflow: hidden;text-align: left;background-color: #f0f8ff;}#sk-container-id-4 div.sk-toggleable__content pre {margin: 0.2em;color: black;border-radius: 0.25em;background-color: #f0f8ff;}#sk-container-id-4 input.sk-toggleable__control:checked~div.sk-toggleable__content {max-height: 200px;max-width: 100%;overflow: auto;}#sk-container-id-4 input.sk-toggleable__control:checked~label.sk-toggleable__label-arrow:before {content: \"▾\";}#sk-container-id-4 div.sk-estimator input.sk-toggleable__control:checked~label.sk-toggleable__label {background-color: #d4ebff;}#sk-container-id-4 div.sk-label input.sk-toggleable__control:checked~label.sk-toggleable__label {background-color: #d4ebff;}#sk-container-id-4 input.sk-hidden--visually {border: 0;clip: rect(1px 1px 1px 1px);clip: rect(1px, 1px, 1px, 1px);height: 1px;margin: -1px;overflow: hidden;padding: 0;position: absolute;width: 1px;}#sk-container-id-4 div.sk-estimator {font-family: monospace;background-color: #f0f8ff;border: 1px dotted black;border-radius: 0.25em;box-sizing: border-box;margin-bottom: 0.5em;}#sk-container-id-4 div.sk-estimator:hover {background-color: #d4ebff;}#sk-container-id-4 div.sk-parallel-item::after {content: \"\";width: 100%;border-bottom: 1px solid gray;flex-grow: 1;}#sk-container-id-4 div.sk-label:hover label.sk-toggleable__label {background-color: #d4ebff;}#sk-container-id-4 div.sk-serial::before {content: \"\";position: absolute;border-left: 1px solid gray;box-sizing: border-box;top: 0;bottom: 0;left: 50%;z-index: 0;}#sk-container-id-4 div.sk-serial {display: flex;flex-direction: column;align-items: center;background-color: white;padding-right: 0.2em;padding-left: 0.2em;position: relative;}#sk-container-id-4 div.sk-item {position: relative;z-index: 1;}#sk-container-id-4 div.sk-parallel {display: flex;align-items: stretch;justify-content: center;background-color: white;position: relative;}#sk-container-id-4 div.sk-item::before, #sk-container-id-4 div.sk-parallel-item::before {content: \"\";position: absolute;border-left: 1px solid gray;box-sizing: border-box;top: 0;bottom: 0;left: 50%;z-index: -1;}#sk-container-id-4 div.sk-parallel-item {display: flex;flex-direction: column;z-index: 1;position: relative;background-color: white;}#sk-container-id-4 div.sk-parallel-item:first-child::after {align-self: flex-end;width: 50%;}#sk-container-id-4 div.sk-parallel-item:last-child::after {align-self: flex-start;width: 50%;}#sk-container-id-4 div.sk-parallel-item:only-child::after {width: 0;}#sk-container-id-4 div.sk-dashed-wrapped {border: 1px dashed gray;margin: 0 0.4em 0.5em 0.4em;box-sizing: border-box;padding-bottom: 0.4em;background-color: white;}#sk-container-id-4 div.sk-label label {font-family: monospace;font-weight: bold;display: inline-block;line-height: 1.2em;}#sk-container-id-4 div.sk-label-container {text-align: center;}#sk-container-id-4 div.sk-container {/* jupyter's `normalize.less` sets `[hidden] { display: none; }` but bootstrap.min.css set `[hidden] { display: none !important; }` so we also need the `!important` here to be able to override the default hidden behavior on the sphinx rendered scikit-learn.org. See: https://github.com/scikit-learn/scikit-learn/issues/21755 */display: inline-block !important;position: relative;}#sk-container-id-4 div.sk-text-repr-fallback {display: none;}</style><div id=\"sk-container-id-4\" class=\"sk-top-container\"><div class=\"sk-text-repr-fallback\"><pre>GridSearchCV(cv=5,\n",
       "             estimator=Pipeline(steps=[(&#x27;scaler&#x27;, StandardScaler()),\n",
       "                                       (&#x27;model&#x27;,\n",
       "                                        &lt;keras.wrappers.scikit_learn.KerasRegressor object at 0x13421ba00&gt;)]),\n",
       "             n_jobs=-1,\n",
       "             param_grid={&#x27;model__batch_size&#x27;: [40],\n",
       "                         &#x27;model__dropout&#x27;: [0.15, 0.18],\n",
       "                         &#x27;model__epochs&#x27;: [80, 100],\n",
       "                         &#x27;model__learn_rate&#x27;: [0.15], &#x27;model__n1&#x27;: [40, 50],\n",
       "                         &#x27;model__n2&#x27;: [50, 60],\n",
       "                         &#x27;model__optimizer&#x27;: [&lt;class &#x27;keras.optimizers.optimizer_v2.gradient_descent.SGD&#x27;&gt;]},\n",
       "             verbose=1)</pre><b>In a Jupyter environment, please rerun this cell to show the HTML representation or trust the notebook. <br />On GitHub, the HTML representation is unable to render, please try loading this page with nbviewer.org.</b></div><div class=\"sk-container\" hidden><div class=\"sk-item sk-dashed-wrapped\"><div class=\"sk-label-container\"><div class=\"sk-label sk-toggleable\"><input class=\"sk-toggleable__control sk-hidden--visually\" id=\"sk-estimator-id-13\" type=\"checkbox\" ><label for=\"sk-estimator-id-13\" class=\"sk-toggleable__label sk-toggleable__label-arrow\">GridSearchCV</label><div class=\"sk-toggleable__content\"><pre>GridSearchCV(cv=5,\n",
       "             estimator=Pipeline(steps=[(&#x27;scaler&#x27;, StandardScaler()),\n",
       "                                       (&#x27;model&#x27;,\n",
       "                                        &lt;keras.wrappers.scikit_learn.KerasRegressor object at 0x13421ba00&gt;)]),\n",
       "             n_jobs=-1,\n",
       "             param_grid={&#x27;model__batch_size&#x27;: [40],\n",
       "                         &#x27;model__dropout&#x27;: [0.15, 0.18],\n",
       "                         &#x27;model__epochs&#x27;: [80, 100],\n",
       "                         &#x27;model__learn_rate&#x27;: [0.15], &#x27;model__n1&#x27;: [40, 50],\n",
       "                         &#x27;model__n2&#x27;: [50, 60],\n",
       "                         &#x27;model__optimizer&#x27;: [&lt;class &#x27;keras.optimizers.optimizer_v2.gradient_descent.SGD&#x27;&gt;]},\n",
       "             verbose=1)</pre></div></div></div><div class=\"sk-parallel\"><div class=\"sk-parallel-item\"><div class=\"sk-item\"><div class=\"sk-label-container\"><div class=\"sk-label sk-toggleable\"><input class=\"sk-toggleable__control sk-hidden--visually\" id=\"sk-estimator-id-14\" type=\"checkbox\" ><label for=\"sk-estimator-id-14\" class=\"sk-toggleable__label sk-toggleable__label-arrow\">estimator: Pipeline</label><div class=\"sk-toggleable__content\"><pre>Pipeline(steps=[(&#x27;scaler&#x27;, StandardScaler()),\n",
       "                (&#x27;model&#x27;,\n",
       "                 &lt;keras.wrappers.scikit_learn.KerasRegressor object at 0x13421ba00&gt;)])</pre></div></div></div><div class=\"sk-serial\"><div class=\"sk-item\"><div class=\"sk-serial\"><div class=\"sk-item\"><div class=\"sk-estimator sk-toggleable\"><input class=\"sk-toggleable__control sk-hidden--visually\" id=\"sk-estimator-id-15\" type=\"checkbox\" ><label for=\"sk-estimator-id-15\" class=\"sk-toggleable__label sk-toggleable__label-arrow\">StandardScaler</label><div class=\"sk-toggleable__content\"><pre>StandardScaler()</pre></div></div></div><div class=\"sk-item\"><div class=\"sk-estimator sk-toggleable\"><input class=\"sk-toggleable__control sk-hidden--visually\" id=\"sk-estimator-id-16\" type=\"checkbox\" ><label for=\"sk-estimator-id-16\" class=\"sk-toggleable__label sk-toggleable__label-arrow\">KerasRegressor</label><div class=\"sk-toggleable__content\"><pre>&lt;keras.wrappers.scikit_learn.KerasRegressor object at 0x13421ba00&gt;</pre></div></div></div></div></div></div></div></div></div></div></div></div>"
      ],
      "text/plain": [
       "GridSearchCV(cv=5,\n",
       "             estimator=Pipeline(steps=[('scaler', StandardScaler()),\n",
       "                                       ('model',\n",
       "                                        <keras.wrappers.scikit_learn.KerasRegressor object at 0x13421ba00>)]),\n",
       "             n_jobs=-1,\n",
       "             param_grid={'model__batch_size': [40],\n",
       "                         'model__dropout': [0.15, 0.18],\n",
       "                         'model__epochs': [80, 100],\n",
       "                         'model__learn_rate': [0.15], 'model__n1': [40, 50],\n",
       "                         'model__n2': [50, 60],\n",
       "                         'model__optimizer': [<class 'keras.optimizers.optimizer_v2.gradient_descent.SGD'>]},\n",
       "             verbose=1)"
      ]
     },
     "execution_count": 19,
     "metadata": {},
     "output_type": "execute_result"
    }
   ],
   "source": [
    "grid_NN4.fit(x_train, y_train)"
   ]
  },
  {
   "cell_type": "code",
   "execution_count": 20,
   "id": "63f7816b-9ca8-4db9-b667-1b14d9b98498",
   "metadata": {},
   "outputs": [
    {
     "data": {
      "text/plain": [
       "{'model__batch_size': 40,\n",
       " 'model__dropout': 0.15,\n",
       " 'model__epochs': 80,\n",
       " 'model__learn_rate': 0.15,\n",
       " 'model__n1': 40,\n",
       " 'model__n2': 60,\n",
       " 'model__optimizer': keras.optimizers.optimizer_v2.gradient_descent.SGD}"
      ]
     },
     "execution_count": 20,
     "metadata": {},
     "output_type": "execute_result"
    }
   ],
   "source": [
    "grid_NN4.best_params_"
   ]
  },
  {
   "cell_type": "markdown",
   "id": "bb3de705-09b3-4d83-b8b3-2817823002f7",
   "metadata": {
    "tags": []
   },
   "source": [
    "## Hyperparameter Tuning for the Random Forest Regressor"
   ]
  },
  {
   "cell_type": "code",
   "execution_count": 5,
   "id": "58efabc2-7c06-4fea-aec1-c503d09f40eb",
   "metadata": {},
   "outputs": [
    {
     "name": "stdout",
     "output_type": "stream",
     "text": [
      "Fitting 5 folds for each of 100 candidates, totalling 500 fits\n",
      "{'n_estimators': 45, 'min_samples_split': 2, 'min_samples_leaf': 3, 'max_depth': 20}\n"
     ]
    }
   ],
   "source": [
    "#Hyperparameter tuning for the Random Forest model\n",
    "\n",
    "forest = RandomForestRegressor(random_state=42)\n",
    "\n",
    "#number of trees\n",
    "n_estim = [int(x) for x in np.linspace(10, 50, num = 9)]\n",
    "# maximum number of levels allowed in each decision tree\n",
    "max_depth = [int(x) for x in np.linspace(10, 30, num = 5)]\n",
    "# minimum sample number to split a node\n",
    "min_samples_split = [2, 6, 8]\n",
    "# minimum sample number that can be stored in a leaf node\n",
    "min_samples_leaf = [1, 3, 4, 7]\n",
    "# method used to sample data points. All initial random searches select True\n",
    "#bootstrap = [True]\n",
    "\n",
    "\n",
    "random_grid = {\"n_estimators\": n_estim, \n",
    "               \"max_depth\": max_depth,\n",
    "               \"min_samples_split\": min_samples_split,\n",
    "               \"min_samples_leaf\": min_samples_leaf#,\n",
    "               #\"bootstrap\": bootstrap\n",
    "              }\n",
    "\n",
    "rf_random = RandomizedSearchCV(estimator = forest,\n",
    "                               param_distributions = random_grid,\n",
    "                               n_iter = 100,\n",
    "                               cv = 5, \n",
    "                               verbose = 1, \n",
    "                               n_jobs = -1,\n",
    "                               random_state = 42\n",
    "                              )\n",
    "\n",
    "rf_random.fit(x_train, y_train)\n",
    "print(rf_random.best_params_)"
   ]
  },
  {
   "cell_type": "code",
   "execution_count": 6,
   "id": "072bd80f-711d-474b-9825-b9b8e164ff4a",
   "metadata": {},
   "outputs": [
    {
     "name": "stdout",
     "output_type": "stream",
     "text": [
      "Fitting 5 folds for each of 225 candidates, totalling 1125 fits\n",
      "{'max_depth': 18, 'min_samples_leaf': 3, 'min_samples_split': 2, 'n_estimators': 45}\n"
     ]
    }
   ],
   "source": [
    "#Using the best model from the random search, we look into closer\n",
    "#ranges of hyperparameters using a grid search\n",
    "\n",
    "\n",
    "random_grid = {\"n_estimators\": [int(x) for x in np.linspace(30, 50, num = 5)], \n",
    "               \"max_depth\": [15, 18, 20, 23, 25],\n",
    "               \"min_samples_split\": [2,3,4],\n",
    "               \"min_samples_leaf\": [2, 3, 4]\n",
    "              }\n",
    "\n",
    "rf_random = GridSearchCV(estimator = forest,\n",
    "                               param_grid = random_grid,\n",
    "                               cv = 5, \n",
    "                               verbose = 1, \n",
    "                               n_jobs = -1\n",
    "                              )\n",
    "\n",
    "rf_random.fit(x_train, y_train)\n",
    "print(rf_random.best_params_)\n"
   ]
  },
  {
   "cell_type": "code",
   "execution_count": 8,
   "id": "cf063fe7-7837-4b6d-9625-407a769fbd3e",
   "metadata": {},
   "outputs": [
    {
     "name": "stdout",
     "output_type": "stream",
     "text": [
      "Fitting 5 folds for each of 168 candidates, totalling 840 fits\n",
      "{'max_depth': 17, 'min_samples_leaf': 3, 'min_samples_split': 2, 'n_estimators': 46}\n"
     ]
    }
   ],
   "source": [
    "#Using the best model from the random search, we look into closer\n",
    "#ranges of hyperparameters using a grid search\n",
    "\n",
    "\n",
    "random_grid = {\"n_estimators\": [42,43,44,45,46,47,47], \n",
    "               \"max_depth\": [16,17,18,19],\n",
    "               \"min_samples_split\": [2,3],\n",
    "               \"min_samples_leaf\": [2,3,4]\n",
    "              }\n",
    "\n",
    "rf_random = GridSearchCV(estimator = forest,\n",
    "                               param_grid = random_grid,\n",
    "                               cv = 5, \n",
    "                               verbose = 1, \n",
    "                               n_jobs = -1\n",
    "                              )\n",
    "\n",
    "rf_random.fit(x_train, y_train)\n",
    "print(rf_random.best_params_)\n"
   ]
  },
  {
   "cell_type": "markdown",
   "id": "5b7efa74-9f43-4800-aae7-70c2fd98ced0",
   "metadata": {},
   "source": [
    "## Hyperparameter tuning for XGB Regressor"
   ]
  },
  {
   "cell_type": "code",
   "execution_count": 14,
   "id": "519806e9-3201-49ee-9b21-607adf3da000",
   "metadata": {},
   "outputs": [
    {
     "name": "stdout",
     "output_type": "stream",
     "text": [
      "Fitting 5 folds for each of 96 candidates, totalling 480 fits\n",
      "{'learning_rate': 0.16, 'max_depth': 3, 'n_estimators': 40}\n"
     ]
    }
   ],
   "source": [
    " #number of trees used in sequence\n",
    "trees_grid = [20,23,27,32,36,40,45,50]\n",
    "# value of learning rate used by gradient descent\n",
    "alpha_grid = [0.16,0.18,0.21,0.25]\n",
    "#maximum depth allowed for each tree\n",
    "max_depth_grid = [2,3,4]\n",
    "\n",
    "\n",
    "xgb_grid = {'n_estimators': trees_grid,\n",
    "            'learning_rate': alpha_grid,\n",
    "            'max_depth': max_depth_grid\n",
    "            }\n",
    "\n",
    "xgb_regressor = XGBRegressor()\n",
    "\n",
    "xgb_search = GridSearchCV(estimator = xgb_regressor,\n",
    "                          param_grid = xgb_grid,\n",
    "                          cv = 5, \n",
    "                          verbose = 1, \n",
    "                          n_jobs = -1\n",
    "                         )\n",
    "\n",
    "xgb_search.fit(x_train, y_train)\n",
    "print(xgb_search.best_params_)"
   ]
  },
  {
   "cell_type": "code",
   "execution_count": 15,
   "id": "07ee5ed0-af33-4c4b-908c-633cb3745977",
   "metadata": {},
   "outputs": [
    {
     "name": "stdout",
     "output_type": "stream",
     "text": [
      "Fitting 5 folds for each of 84 candidates, totalling 420 fits\n",
      "{'learning_rate': 0.16, 'max_depth': 3, 'n_estimators': 42}\n"
     ]
    }
   ],
   "source": [
    "#number of trees used in sequence\n",
    "trees_grid = [30,32,35,37,40,42,45]\n",
    "# value of learning rate used by gradient descent\n",
    "alpha_grid = [0.16, 0.17, 0.2, 0.25]\n",
    "#maximum depth allowed for each tree\n",
    "max_depth_grid = [2,3,4]\n",
    "\n",
    "\n",
    "xgb_grid = {'n_estimators': trees_grid,\n",
    "            'learning_rate': alpha_grid,\n",
    "            'max_depth': max_depth_grid\n",
    "            }\n",
    "\n",
    "xgb_regressor = XGBRegressor()\n",
    "\n",
    "xgb_search = GridSearchCV(estimator = xgb_regressor,\n",
    "                          param_grid = xgb_grid,\n",
    "                          cv = 5, \n",
    "                          verbose = 1, \n",
    "                          n_jobs = -1\n",
    "                         )\n",
    "\n",
    "xgb_search.fit(x_train, y_train)\n",
    "print(xgb_search.best_params_)"
   ]
  },
  {
   "cell_type": "code",
   "execution_count": 16,
   "id": "1c287145-3356-4721-87cb-3d95ddb347ee",
   "metadata": {},
   "outputs": [
    {
     "name": "stdout",
     "output_type": "stream",
     "text": [
      "Fitting 5 folds for each of 36 candidates, totalling 180 fits\n",
      "{'learning_rate': 0.16, 'max_depth': 3, 'n_estimators': 43}\n"
     ]
    }
   ],
   "source": [
    " #number of trees used in sequence\n",
    "trees_grid = [40,41,42,43,44,45]\n",
    "# value of learning rate used by gradient descent\n",
    "alpha_grid = [0.15, 0.16, 0.17]\n",
    "#maximum depth allowed for each tree\n",
    "max_depth_grid = [3,4]\n",
    "\n",
    "xgb_grid = {'n_estimators': trees_grid,\n",
    "            'learning_rate': alpha_grid,\n",
    "            'max_depth': max_depth_grid\n",
    "            }\n",
    "\n",
    "xgb_regressor = XGBRegressor()\n",
    "\n",
    "xgb_search = GridSearchCV(estimator = xgb_regressor,\n",
    "                          param_grid = xgb_grid,\n",
    "                          cv = 5, \n",
    "                          verbose = 1, \n",
    "                          n_jobs = -1\n",
    "                         )\n",
    "\n",
    "xgb_search.fit(x_train, y_train)\n",
    "print(xgb_search.best_params_)"
   ]
  }
 ],
 "metadata": {
  "kernelspec": {
   "display_name": "Python 3 (ipykernel)",
   "language": "python",
   "name": "python3"
  },
  "language_info": {
   "codemirror_mode": {
    "name": "ipython",
    "version": 3
   },
   "file_extension": ".py",
   "mimetype": "text/x-python",
   "name": "python",
   "nbconvert_exporter": "python",
   "pygments_lexer": "ipython3",
   "version": "3.8.5"
  }
 },
 "nbformat": 4,
 "nbformat_minor": 5
}
